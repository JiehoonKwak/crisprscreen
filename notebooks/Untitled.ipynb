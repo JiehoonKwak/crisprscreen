{
 "cells": [
  {
   "cell_type": "code",
   "execution_count": 4,
   "id": "c9a59958-8193-4168-a166-48151eb48979",
   "metadata": {},
   "outputs": [
    {
     "name": "stdout",
     "output_type": "stream",
     "text": [
      "Successfully installed absl-py-2.1.0 aiohappyeyeballs-2.4.4 aiohttp-3.11.11 aiosignal-1.3.2 anndata-0.11.3 array-api-compat-1.10.0 chex-0.1.88 contourpy-1.3.1 cycler-0.12.1 docrep-0.3.2 etils-1.11.0 flax-0.10.2 fonttools-4.55.3 frozenlist-1.5.0 grpcio-1.69.0 h5py-3.12.1 humanize-4.11.0 igraph-0.11.8 importlib_resources-6.5.2 jax-0.4.38 jaxlib-0.4.38 joblib-1.4.2 kiwisolver-1.4.8 legacy-api-wrap-1.4.1 leidenalg-0.10.2 lightning-2.5.0.post0 lightning-utilities-0.11.9 llvmlite-0.43.0 markdown-3.7 markdown-it-py-3.0.0 matplotlib-3.10.0 mdurl-0.1.2 ml-collections-1.0.0 ml_dtypes-0.5.1 mplscience-0.0.7 msgpack-1.1.0 mudata-0.3.1 multidict-6.1.0 multipledispatch-1.0.0 natsort-8.4.0 numba-0.60.0 numpyro-0.16.1 opt_einsum-3.4.0 optax-0.2.4 orbax-checkpoint-0.11.0 pandas-2.2.3 patsy-1.0.1 propcache-0.2.1 protobuf-5.29.3 pynndescent-0.5.13 pyro-api-0.1.2 pyro-ppl-1.9.1 pytorch-lightning-2.5.0.post0 pytz-2024.2 rich-13.9.4 scanpy-1.10.4 scikit-learn-1.6.1 scikit-misc-0.5.1 scipy-1.15.1 scvi-tools-1.2.2.post2 seaborn-0.13.2 session-info-1.0.0 simplejson-3.19.3 sparse-0.15.4 statsmodels-0.14.4 stdlib_list-0.11.0 tensorboard-2.18.0 tensorboard-data-server-0.7.2 tensorstore-0.1.71 texttable-1.7.0 threadpoolctl-3.5.0 toolz-1.0.0 torchmetrics-1.6.1 tqdm-4.67.1 tzdata-2024.2 umap-learn-0.5.7 werkzeug-3.1.3 xarray-2025.1.1 yarl-1.18.3\n",
      "\u001b[33mWARNING: Running pip as the 'root' user can result in broken permissions and conflicting behaviour with the system package manager, possibly rendering your system unusable.It is recommended to use a virtual environment instead: https://pip.pypa.io/warnings/venv. Use the --root-user-action option if you know what you are doing and want to suppress this warning.\u001b[0m\u001b[33m\n",
      "\u001b[0m\n",
      "\u001b[1m[\u001b[0m\u001b[34;49mnotice\u001b[0m\u001b[1;39;49m]\u001b[0m\u001b[39;49m A new release of pip is available: \u001b[0m\u001b[31;49m24.2\u001b[0m\u001b[39;49m -> \u001b[0m\u001b[32;49m24.3.1\u001b[0m\n",
      "\u001b[1m[\u001b[0m\u001b[34;49mnotice\u001b[0m\u001b[1;39;49m]\u001b[0m\u001b[39;49m To update, run: \u001b[0m\u001b[32;49mpython -m pip install --upgrade pip\u001b[0m\n"
     ]
    }
   ],
   "source": [
    "!pip install scanpy scikit-misc scvi-tools mplscience igraph leidenalg"
   ]
  },
  {
   "cell_type": "code",
   "execution_count": null,
   "id": "f00a7412-92e5-4c4e-9677-70a2ce789547",
   "metadata": {},
   "outputs": [],
   "source": [
    "!nohup python train_scvi.py > output.log 2>&1 &"
   ]
  },
  {
   "cell_type": "code",
   "execution_count": 1,
   "id": "1da329f7-f30a-41b9-a4ca-c49ffd83a27a",
   "metadata": {},
   "outputs": [
    {
     "name": "stdout",
     "output_type": "stream",
     "text": [
      "1.2.2.post2\n"
     ]
    },
    {
     "name": "stderr",
     "output_type": "stream",
     "text": [
      "Seed set to 777\n"
     ]
    },
    {
     "name": "stdout",
     "output_type": "stream",
     "text": [
      "scanpy==1.10.4 anndata==0.11.3 umap==0.5.7 numpy==1.26.3 scipy==1.15.1 pandas==2.2.3 scikit-learn==1.6.1 statsmodels==0.14.4 igraph==0.11.8 pynndescent==0.5.13\n"
     ]
    }
   ],
   "source": [
    "import os\n",
    "os.chdir('/workspace')\n",
    "import gc\n",
    "import warnings\n",
    "warnings.filterwarnings(\"ignore\")\n",
    "\n",
    "# single cell pipelines\n",
    "import scanpy as sc\n",
    "import numpy as np\n",
    "import pandas as pd\n",
    "\n",
    "import seaborn as sns\n",
    "import matplotlib.pyplot as plt\n",
    "import mplscience\n",
    "\n",
    "# scvi-tools\n",
    "import scvi\n",
    "import torch\n",
    "\n",
    "print(scvi.__version__)\n",
    "sc.logging.print_header()\n",
    "\n",
    "np.random.seed(777)\n",
    "torch.manual_seed(777)\n",
    "scvi.settings.seed = 777\n",
    "\n",
    "torch.set_float32_matmul_precision(\"high\")"
   ]
  },
  {
   "cell_type": "code",
   "execution_count": 12,
   "id": "bbfaec67-596c-403f-b0dc-2abf1052407c",
   "metadata": {},
   "outputs": [
    {
     "data": {
      "text/plain": [
       "AnnData object with n_obs × n_vars = 1135345 × 5000\n",
       "    obs: 'author', 'method', 'assay', 'donor_id', 'gs_prediction_main', 'SingleR', 'predicted.annotation_level_3', 'predicted.annotation_level_4.score', 'predicted.annotation_level_4', 'copykat', 'cell_type'\n",
       "    var: 'n_cells', 'highly_variable', 'highly_variable_rank', 'means', 'variances', 'variances_norm', 'highly_variable_nbatches'\n",
       "    uns: 'hvg'\n",
       "    obsm: 'X_pca', 'X_umap'\n",
       "    layers: 'counts'"
      ]
     },
     "execution_count": 12,
     "metadata": {},
     "output_type": "execute_result"
    }
   ],
   "source": [
    "adata = sc.read_h5ad('full_filtered.h5ad')\n",
    "adata"
   ]
  },
  {
   "cell_type": "code",
   "execution_count": 3,
   "id": "d03ab508-3b99-4955-aff0-8d79ebad0efd",
   "metadata": {},
   "outputs": [],
   "source": [
    "scvi.model.SCVI.setup_anndata(adata, layer = \"counts\", batch_key=\"author\", labels_key=\"cell_type\")"
   ]
  },
  {
   "cell_type": "code",
   "execution_count": 9,
   "id": "7271b8b7-160f-4747-99c3-0507b013c2b3",
   "metadata": {},
   "outputs": [],
   "source": [
    "# scvi_model = scvi.model.SCVI(\n",
    "#     adata,\n",
    "#     n_layers=2,\n",
    "#     encode_covariates=True,\n",
    "#     deeply_inject_covariates=False,\n",
    "#     use_layer_norm=\"both\",\n",
    "#     use_batch_norm=\"none\",\n",
    "# )"
   ]
  },
  {
   "cell_type": "code",
   "execution_count": null,
   "id": "b51597e6-54f8-4284-93f1-c3aa597d9161",
   "metadata": {},
   "outputs": [
    {
     "name": "stderr",
     "output_type": "stream",
     "text": [
      "GPU available: True (cuda), used: True\n",
      "TPU available: False, using: 0 TPU cores\n",
      "HPU available: False, using: 0 HPUs\n",
      "LOCAL_RANK: 0 - CUDA_VISIBLE_DEVICES: [0]\n"
     ]
    },
    {
     "data": {
      "application/vnd.jupyter.widget-view+json": {
       "model_id": "296bafcbefed4b2e9eba43290534caf1",
       "version_major": 2,
       "version_minor": 0
      },
      "text/plain": [
       "Training:   0%|          | 0/500 [00:00<?, ?it/s]"
      ]
     },
     "metadata": {},
     "output_type": "display_data"
    }
   ],
   "source": [
    "# scvi_model.train(\n",
    "#     max_epochs=500,\n",
    "#     early_stopping=True,\n",
    "#     early_stopping_monitor=\"elbo_validation\", \n",
    "#     early_stopping_patience=10,\n",
    "#     plan_kwargs={\n",
    "#         \"reduce_lr_on_plateau\": True,\n",
    "#         \"lr_factor\": 0.1,\n",
    "#         \"lr_patience\": 8,\n",
    "#         \"lr_scheduler_metric\": \"elbo_validation\",\n",
    "#     },\n",
    "# )"
   ]
  },
  {
   "cell_type": "code",
   "execution_count": 15,
   "id": "d6b33a9f-5ec0-4c0c-a029-21e306d7282e",
   "metadata": {},
   "outputs": [],
   "source": [
    "# scvi_model.save('full_scvi_model')"
   ]
  },
  {
   "cell_type": "code",
   "execution_count": 16,
   "id": "ab825bb1-708a-432d-b2cc-d2698d12b6a8",
   "metadata": {},
   "outputs": [
    {
     "name": "stdout",
     "output_type": "stream",
     "text": [
      "\u001b[34mINFO    \u001b[0m File full_scvi_model/model.pt already downloaded                                                          \n"
     ]
    }
   ],
   "source": [
    "scvi_model = scvi.model.SCVI.load('full_scvi_model', adata)"
   ]
  },
  {
   "cell_type": "code",
   "execution_count": 17,
   "id": "872b33c9-6b1c-431b-988b-c7aed17a0cc8",
   "metadata": {},
   "outputs": [
    {
     "data": {
      "image/png": "[encoded data removed]",
      "text/plain": [
       "<Figure size 400x400 with 1 Axes>"
      ]
     },
     "metadata": {},
     "output_type": "display_data"
    }
   ],
   "source": [
    "with mplscience.style_context():\n",
    "    y = scvi_model.history['reconstruction_loss_validation']['reconstruction_loss_validation'].min()\n",
    "    plt.plot(scvi_model.history['reconstruction_loss_validation']['reconstruction_loss_validation'], label = 'validation')\n",
    "    plt.plot(scvi_model.history['reconstruction_loss_train']['reconstruction_loss_train'], label = 'train')\n",
    "\n",
    "    plt.axhline(y, c = 'k')\n",
    "    plt.legend()\n",
    "    plt.show()"
   ]
  },
  {
   "cell_type": "code",
   "execution_count": 18,
   "id": "01082fcb-ee3e-4a89-8cdf-e7e15c7c74b0",
   "metadata": {},
   "outputs": [],
   "source": [
    "scanvi_model = scvi.model.SCANVI.from_scvi_model(\n",
    "    scvi_model,\n",
    "    adata=adata,\n",
    "    labels_key=\"cell_type\",\n",
    "    unlabeled_category=\"Unknown\",\n",
    ")\n"
   ]
  },
  {
   "cell_type": "code",
   "execution_count": null,
   "id": "f84c1b21-3cc5-4a1b-9842-cd2c22135962",
   "metadata": {},
   "outputs": [],
   "source": [
    "scanvi_model.train(\n",
    "    max_epochs=200,\n",
    "    early_stopping=True,\n",
    "    early_stopping_monitor=\"validation_classification_loss\",  # or accuracy\n",
    "    early_stopping_min_delta=0.001,\n",
    "    early_stopping_patience=10,\n",
    "    plan_kwargs={\n",
    "        \"reduce_lr_on_plateau\": True,\n",
    "        \"lr_factor\": 0.1,\n",
    "        \"lr_patience\": 8,\n",
    "        \"lr_scheduler_metric\": \"validation_classification_loss\",\n",
    "    },\n",
    ")"
   ]
  },
  {
   "cell_type": "code",
   "execution_count": null,
   "id": "e83dd241-fc90-4fc6-809b-bc18d908281e",
   "metadata": {},
   "outputs": [],
   "source": [
    "# scanvi_model.save('full_scanvi_model')"
   ]
  },
  {
   "cell_type": "code",
   "execution_count": 4,
   "id": "bfc9d0ff-37a1-4dac-ac7b-1249e142e876",
   "metadata": {},
   "outputs": [
    {
     "name": "stdout",
     "output_type": "stream",
     "text": [
      "\u001b[34mINFO    \u001b[0m File full_scanvi_model/model.pt already downloaded                                                        \n"
     ]
    }
   ],
   "source": [
    "scanvi_model = scvi.model.SCANVI.load('full_scanvi_model', adata)"
   ]
  },
  {
   "cell_type": "code",
   "execution_count": 8,
   "id": "39f4c8ef-32c7-4d5c-91fb-568c29f2227e",
   "metadata": {},
   "outputs": [
    {
     "data": {
      "text/plain": [
       "dict_keys(['lr-Adam', 'train_loss_step', 'validation_loss', 'elbo_validation', 'reconstruction_loss_validation', 'kl_local_validation', 'kl_global_validation', 'validation_classification_loss', 'validation_accuracy', 'validation_f1_score', 'validation_calibration_error', 'train_loss_epoch', 'elbo_train', 'reconstruction_loss_train', 'kl_local_train', 'kl_global_train', 'train_classification_loss', 'train_accuracy', 'train_f1_score', 'train_calibration_error'])"
      ]
     },
     "execution_count": 8,
     "metadata": {},
     "output_type": "execute_result"
    }
   ],
   "source": [
    "scanvi_model.history.keys()"
   ]
  },
  {
   "cell_type": "code",
   "execution_count": 9,
   "id": "213148e8-32b0-41e7-b938-c7abfc2d1c00",
   "metadata": {},
   "outputs": [
    {
     "data": {
      "image/png": "[encoded data removed]",
      "text/plain": [
       "<Figure size 400x400 with 1 Axes>"
      ]
     },
     "metadata": {},
     "output_type": "display_data"
    }
   ],
   "source": [
    "with mplscience.style_context():\n",
    "    y = scanvi_model.history['validation_classification_loss']['validation_classification_loss'].min()\n",
    "    plt.plot(scanvi_model.history['train_classification_loss']['train_classification_loss'], label = 'validation')\n",
    "    plt.plot(scanvi_model.history['validation_classification_loss']['validation_classification_loss'], label = 'train')\n",
    "\n",
    "    plt.axhline(y, c = 'k')\n",
    "    plt.legend()\n",
    "    plt.show()"
   ]
  },
  {
   "cell_type": "code",
   "execution_count": null,
   "id": "6b9422db-0e59-45f8-b632-42a1599fbd02",
   "metadata": {},
   "outputs": [],
   "source": [
    "bdata = adata.raw.to_adata()\n",
    "bdata"
   ]
  },
  {
   "cell_type": "code",
   "execution_count": 18,
   "id": "39f04706-73ff-4d5f-a3fd-c0bebb4ec48e",
   "metadata": {},
   "outputs": [],
   "source": [
    "bdata.obsm[\"X_scANVI\"] = scanvi_model.get_latent_representation(adata)"
   ]
  },
  {
   "cell_type": "code",
   "execution_count": 19,
   "id": "1a778aa2-18df-4598-8198-da8317757b26",
   "metadata": {},
   "outputs": [
    {
     "data": {
      "text/plain": [
       "AnnData object with n_obs × n_vars = 1135345 × 29437\n",
       "    obs: 'author', 'method', 'assay', 'donor_id', 'gs_prediction_main', 'SingleR', 'predicted.annotation_level_3', 'predicted.annotation_level_4.score', 'predicted.annotation_level_4', 'copykat', 'cell_type', '_scvi_batch', '_scvi_labels'\n",
       "    var: 'n_cells'\n",
       "    uns: 'hvg', '_scvi_uuid', '_scvi_manager_uuid'\n",
       "    obsm: 'X_pca', 'X_umap', 'X_scANVI'"
      ]
     },
     "execution_count": 19,
     "metadata": {},
     "output_type": "execute_result"
    }
   ],
   "source": [
    "bdata"
   ]
  },
  {
   "cell_type": "code",
   "execution_count": 20,
   "id": "ea0a443c-7056-4d35-9e6e-4983dc4fdcad",
   "metadata": {},
   "outputs": [],
   "source": [
    "bdata.write('map.h5ad')"
   ]
  },
  {
   "cell_type": "code",
   "execution_count": 21,
   "id": "ce29c74f-8108-477d-8ca6-732327ac4802",
   "metadata": {},
   "outputs": [
    {
     "data": {
      "text/plain": [
       "216739.0"
      ]
     },
     "execution_count": 21,
     "metadata": {},
     "output_type": "execute_result"
    }
   ],
   "source": [
    "np.max(bdata.X)"
   ]
  },
  {
   "cell_type": "code",
   "execution_count": null,
   "id": "3a4f5f91-64ec-41c0-9c49-17945d2338de",
   "metadata": {},
   "outputs": [],
   "source": []
  }
 ],
 "metadata": {
  "kernelspec": {
   "display_name": "Python 3 (ipykernel)",
   "language": "python",
   "name": "python3"
  },
  "language_info": {
   "codemirror_mode": {
    "name": "ipython",
    "version": 3
   },
   "file_extension": ".py",
   "mimetype": "text/x-python",
   "name": "python",
   "nbconvert_exporter": "python",
   "pygments_lexer": "ipython3",
   "version": "3.11.10"
  }
 },
 "nbformat": 4,
 "nbformat_minor": 5
}
