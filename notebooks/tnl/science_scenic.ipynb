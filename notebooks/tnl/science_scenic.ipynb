{
 "cells": [
  {
   "cell_type": "markdown",
   "metadata": {},
   "source": [
    "# pySCENIC GRN analysis (simplified)\n",
    "- reference : single cell best practice, https://doi.org/10.1126/science.adi5199\n",
    "- 기존 : pyscenic_tumor.ipynb (GBmap 참고)\n",
    "- metacell with 0-scaled → rank 100 RSS values -> top 20% link"
   ]
  },
  {
   "cell_type": "markdown",
   "metadata": {},
   "source": [
    "# Load Modules and Data"
   ]
  },
  {
   "cell_type": "code",
   "execution_count": 1,
   "metadata": {},
   "outputs": [],
   "source": [
    "import scanpy as sc\n",
    "import loompy as lp\n",
    "import pandas as pd\n",
    "import numpy as np\n",
    "import anndata as ad\n",
    "import seaborn as sns\n",
    "import os\n",
    "from matplotlib import rcParams\n",
    "from matplotlib.pyplot import rc_context\n",
    "import matplotlib.pyplot as plt\n",
    "import networkx as nx\n",
    "from sklearn.preprocessing import MinMaxScaler\n",
    "\n",
    "from pyscenic.cli.utils import load_signatures\n",
    "from pyscenic.export import export2loom, add_scenic_metadata\n",
    "from pyscenic.transform import df2regulons\n",
    "from pyscenic.aucell import aucell\n",
    "from pyscenic.binarization import binarize\n",
    "from pyscenic.rss import regulon_specificity_scores\n",
    "from pyscenic.plotting import plot_binarization, plot_rss\n",
    "from pyscenic.utils import load_motifs\n",
    "from pyscenic.utils import modules_from_adjacencies\n",
    "\n",
    "import operator as op\n",
    "from IPython.display import HTML, display\n",
    "from adjustText import adjust_text"
   ]
  },
  {
   "cell_type": "code",
   "execution_count": 2,
   "metadata": {},
   "outputs": [],
   "source": [
    "data_path = \"/Users/jiehoonk/DevHub/mnt/dataset/TFlistup/output/scenic/scaled\""
   ]
  },
  {
   "cell_type": "code",
   "execution_count": 6,
   "metadata": {},
   "outputs": [
    {
     "data": {
      "text/plain": [
       "AnnData object with n_obs × n_vars = 8516 × 17899\n",
       "    obs: 'author', 'annotation_level_1', 'annotation_level_2', 'annotation_level_3', 'celltype_original', 'cell_type', 'CellID', 'predictions', 'SEACell', '_scvi_batch', '_scvi_labels', 'leiden'\n",
       "    uns: '_scvi_manager_uuid', '_scvi_uuid', 'author_colors', 'cell_type_colors', 'hvg', 'leiden', 'leiden_colors', 'neighbors', 'umap'\n",
       "    obsm: 'X_scVI', 'X_umap'\n",
       "    obsp: 'connectivities', 'distances'"
      ]
     },
     "execution_count": 6,
     "metadata": {},
     "output_type": "execute_result"
    }
   ],
   "source": [
    "adata = sc.read('/Users/jiehoonk/DevHub/mnt/dataset/TFlistup/data/seacell_scvi.h5ad')\n",
    "adata = adata.raw.to_adata()\n",
    "adata"
   ]
  },
  {
   "cell_type": "code",
   "execution_count": 8,
   "metadata": {},
   "outputs": [
    {
     "data": {
      "text/plain": [
       "<Axes: ylabel='Count'>"
      ]
     },
     "execution_count": 8,
     "metadata": {},
     "output_type": "execute_result"
    },
    {
     "ename": "ValueError",
     "evalue": "Image size of 575x374957 pixels is too large. It must be less than 2^16 in each direction.",
     "output_type": "error",
     "traceback": [
      "\u001b[0;31m---------------------------------------------------------------------------\u001b[0m",
      "\u001b[0;31mValueError\u001b[0m                                Traceback (most recent call last)",
      "File \u001b[0;32m~/micromamba/envs/pyscenic/lib/python3.10/site-packages/IPython/core/formatters.py:343\u001b[0m, in \u001b[0;36mBaseFormatter.__call__\u001b[0;34m(self, obj)\u001b[0m\n\u001b[1;32m    341\u001b[0m     \u001b[38;5;28;01mpass\u001b[39;00m\n\u001b[1;32m    342\u001b[0m \u001b[38;5;28;01melse\u001b[39;00m:\n\u001b[0;32m--> 343\u001b[0m     \u001b[38;5;28;01mreturn\u001b[39;00m \u001b[43mprinter\u001b[49m\u001b[43m(\u001b[49m\u001b[43mobj\u001b[49m\u001b[43m)\u001b[49m\n\u001b[1;32m    344\u001b[0m \u001b[38;5;66;03m# Finally look for special method names\u001b[39;00m\n\u001b[1;32m    345\u001b[0m method \u001b[38;5;241m=\u001b[39m get_real_method(obj, \u001b[38;5;28mself\u001b[39m\u001b[38;5;241m.\u001b[39mprint_method)\n",
      "File \u001b[0;32m~/micromamba/envs/pyscenic/lib/python3.10/site-packages/IPython/core/pylabtools.py:152\u001b[0m, in \u001b[0;36mprint_figure\u001b[0;34m(fig, fmt, bbox_inches, base64, **kwargs)\u001b[0m\n\u001b[1;32m    149\u001b[0m     \u001b[38;5;28;01mfrom\u001b[39;00m \u001b[38;5;21;01mmatplotlib\u001b[39;00m\u001b[38;5;21;01m.\u001b[39;00m\u001b[38;5;21;01mbackend_bases\u001b[39;00m \u001b[38;5;28;01mimport\u001b[39;00m FigureCanvasBase\n\u001b[1;32m    150\u001b[0m     FigureCanvasBase(fig)\n\u001b[0;32m--> 152\u001b[0m \u001b[43mfig\u001b[49m\u001b[38;5;241;43m.\u001b[39;49m\u001b[43mcanvas\u001b[49m\u001b[38;5;241;43m.\u001b[39;49m\u001b[43mprint_figure\u001b[49m\u001b[43m(\u001b[49m\u001b[43mbytes_io\u001b[49m\u001b[43m,\u001b[49m\u001b[43m \u001b[49m\u001b[38;5;241;43m*\u001b[39;49m\u001b[38;5;241;43m*\u001b[39;49m\u001b[43mkw\u001b[49m\u001b[43m)\u001b[49m\n\u001b[1;32m    153\u001b[0m data \u001b[38;5;241m=\u001b[39m bytes_io\u001b[38;5;241m.\u001b[39mgetvalue()\n\u001b[1;32m    154\u001b[0m \u001b[38;5;28;01mif\u001b[39;00m fmt \u001b[38;5;241m==\u001b[39m \u001b[38;5;124m'\u001b[39m\u001b[38;5;124msvg\u001b[39m\u001b[38;5;124m'\u001b[39m:\n",
      "File \u001b[0;32m~/micromamba/envs/pyscenic/lib/python3.10/site-packages/matplotlib/backend_bases.py:2193\u001b[0m, in \u001b[0;36mFigureCanvasBase.print_figure\u001b[0;34m(self, filename, dpi, facecolor, edgecolor, orientation, format, bbox_inches, pad_inches, bbox_extra_artists, backend, **kwargs)\u001b[0m\n\u001b[1;32m   2189\u001b[0m \u001b[38;5;28;01mtry\u001b[39;00m:\n\u001b[1;32m   2190\u001b[0m     \u001b[38;5;66;03m# _get_renderer may change the figure dpi (as vector formats\u001b[39;00m\n\u001b[1;32m   2191\u001b[0m     \u001b[38;5;66;03m# force the figure dpi to 72), so we need to set it again here.\u001b[39;00m\n\u001b[1;32m   2192\u001b[0m     \u001b[38;5;28;01mwith\u001b[39;00m cbook\u001b[38;5;241m.\u001b[39m_setattr_cm(\u001b[38;5;28mself\u001b[39m\u001b[38;5;241m.\u001b[39mfigure, dpi\u001b[38;5;241m=\u001b[39mdpi):\n\u001b[0;32m-> 2193\u001b[0m         result \u001b[38;5;241m=\u001b[39m \u001b[43mprint_method\u001b[49m\u001b[43m(\u001b[49m\n\u001b[1;32m   2194\u001b[0m \u001b[43m            \u001b[49m\u001b[43mfilename\u001b[49m\u001b[43m,\u001b[49m\n\u001b[1;32m   2195\u001b[0m \u001b[43m            \u001b[49m\u001b[43mfacecolor\u001b[49m\u001b[38;5;241;43m=\u001b[39;49m\u001b[43mfacecolor\u001b[49m\u001b[43m,\u001b[49m\n\u001b[1;32m   2196\u001b[0m \u001b[43m            \u001b[49m\u001b[43medgecolor\u001b[49m\u001b[38;5;241;43m=\u001b[39;49m\u001b[43medgecolor\u001b[49m\u001b[43m,\u001b[49m\n\u001b[1;32m   2197\u001b[0m \u001b[43m            \u001b[49m\u001b[43morientation\u001b[49m\u001b[38;5;241;43m=\u001b[39;49m\u001b[43morientation\u001b[49m\u001b[43m,\u001b[49m\n\u001b[1;32m   2198\u001b[0m \u001b[43m            \u001b[49m\u001b[43mbbox_inches_restore\u001b[49m\u001b[38;5;241;43m=\u001b[39;49m\u001b[43m_bbox_inches_restore\u001b[49m\u001b[43m,\u001b[49m\n\u001b[1;32m   2199\u001b[0m \u001b[43m            \u001b[49m\u001b[38;5;241;43m*\u001b[39;49m\u001b[38;5;241;43m*\u001b[39;49m\u001b[43mkwargs\u001b[49m\u001b[43m)\u001b[49m\n\u001b[1;32m   2200\u001b[0m \u001b[38;5;28;01mfinally\u001b[39;00m:\n\u001b[1;32m   2201\u001b[0m     \u001b[38;5;28;01mif\u001b[39;00m bbox_inches \u001b[38;5;129;01mand\u001b[39;00m restore_bbox:\n",
      "File \u001b[0;32m~/micromamba/envs/pyscenic/lib/python3.10/site-packages/matplotlib/backend_bases.py:2043\u001b[0m, in \u001b[0;36mFigureCanvasBase._switch_canvas_and_return_print_method.<locals>.<lambda>\u001b[0;34m(*args, **kwargs)\u001b[0m\n\u001b[1;32m   2039\u001b[0m     optional_kws \u001b[38;5;241m=\u001b[39m {  \u001b[38;5;66;03m# Passed by print_figure for other renderers.\u001b[39;00m\n\u001b[1;32m   2040\u001b[0m         \u001b[38;5;124m\"\u001b[39m\u001b[38;5;124mdpi\u001b[39m\u001b[38;5;124m\"\u001b[39m, \u001b[38;5;124m\"\u001b[39m\u001b[38;5;124mfacecolor\u001b[39m\u001b[38;5;124m\"\u001b[39m, \u001b[38;5;124m\"\u001b[39m\u001b[38;5;124medgecolor\u001b[39m\u001b[38;5;124m\"\u001b[39m, \u001b[38;5;124m\"\u001b[39m\u001b[38;5;124morientation\u001b[39m\u001b[38;5;124m\"\u001b[39m,\n\u001b[1;32m   2041\u001b[0m         \u001b[38;5;124m\"\u001b[39m\u001b[38;5;124mbbox_inches_restore\u001b[39m\u001b[38;5;124m\"\u001b[39m}\n\u001b[1;32m   2042\u001b[0m     skip \u001b[38;5;241m=\u001b[39m optional_kws \u001b[38;5;241m-\u001b[39m {\u001b[38;5;241m*\u001b[39minspect\u001b[38;5;241m.\u001b[39msignature(meth)\u001b[38;5;241m.\u001b[39mparameters}\n\u001b[0;32m-> 2043\u001b[0m     print_method \u001b[38;5;241m=\u001b[39m functools\u001b[38;5;241m.\u001b[39mwraps(meth)(\u001b[38;5;28;01mlambda\u001b[39;00m \u001b[38;5;241m*\u001b[39margs, \u001b[38;5;241m*\u001b[39m\u001b[38;5;241m*\u001b[39mkwargs: \u001b[43mmeth\u001b[49m\u001b[43m(\u001b[49m\n\u001b[1;32m   2044\u001b[0m \u001b[43m        \u001b[49m\u001b[38;5;241;43m*\u001b[39;49m\u001b[43margs\u001b[49m\u001b[43m,\u001b[49m\u001b[43m \u001b[49m\u001b[38;5;241;43m*\u001b[39;49m\u001b[38;5;241;43m*\u001b[39;49m\u001b[43m{\u001b[49m\u001b[43mk\u001b[49m\u001b[43m:\u001b[49m\u001b[43m \u001b[49m\u001b[43mv\u001b[49m\u001b[43m \u001b[49m\u001b[38;5;28;43;01mfor\u001b[39;49;00m\u001b[43m \u001b[49m\u001b[43mk\u001b[49m\u001b[43m,\u001b[49m\u001b[43m \u001b[49m\u001b[43mv\u001b[49m\u001b[43m \u001b[49m\u001b[38;5;129;43;01min\u001b[39;49;00m\u001b[43m \u001b[49m\u001b[43mkwargs\u001b[49m\u001b[38;5;241;43m.\u001b[39;49m\u001b[43mitems\u001b[49m\u001b[43m(\u001b[49m\u001b[43m)\u001b[49m\u001b[43m \u001b[49m\u001b[38;5;28;43;01mif\u001b[39;49;00m\u001b[43m \u001b[49m\u001b[43mk\u001b[49m\u001b[43m \u001b[49m\u001b[38;5;129;43;01mnot\u001b[39;49;00m\u001b[43m \u001b[49m\u001b[38;5;129;43;01min\u001b[39;49;00m\u001b[43m \u001b[49m\u001b[43mskip\u001b[49m\u001b[43m}\u001b[49m\u001b[43m)\u001b[49m)\n\u001b[1;32m   2045\u001b[0m \u001b[38;5;28;01melse\u001b[39;00m:  \u001b[38;5;66;03m# Let third-parties do as they see fit.\u001b[39;00m\n\u001b[1;32m   2046\u001b[0m     print_method \u001b[38;5;241m=\u001b[39m meth\n",
      "File \u001b[0;32m~/micromamba/envs/pyscenic/lib/python3.10/site-packages/matplotlib/backends/backend_agg.py:497\u001b[0m, in \u001b[0;36mFigureCanvasAgg.print_png\u001b[0;34m(self, filename_or_obj, metadata, pil_kwargs)\u001b[0m\n\u001b[1;32m    450\u001b[0m \u001b[38;5;28;01mdef\u001b[39;00m \u001b[38;5;21mprint_png\u001b[39m(\u001b[38;5;28mself\u001b[39m, filename_or_obj, \u001b[38;5;241m*\u001b[39m, metadata\u001b[38;5;241m=\u001b[39m\u001b[38;5;28;01mNone\u001b[39;00m, pil_kwargs\u001b[38;5;241m=\u001b[39m\u001b[38;5;28;01mNone\u001b[39;00m):\n\u001b[1;32m    451\u001b[0m \u001b[38;5;250m    \u001b[39m\u001b[38;5;124;03m\"\"\"\u001b[39;00m\n\u001b[1;32m    452\u001b[0m \u001b[38;5;124;03m    Write the figure to a PNG file.\u001b[39;00m\n\u001b[1;32m    453\u001b[0m \n\u001b[0;32m   (...)\u001b[0m\n\u001b[1;32m    495\u001b[0m \u001b[38;5;124;03m        *metadata*, including the default 'Software' key.\u001b[39;00m\n\u001b[1;32m    496\u001b[0m \u001b[38;5;124;03m    \"\"\"\u001b[39;00m\n\u001b[0;32m--> 497\u001b[0m     \u001b[38;5;28;43mself\u001b[39;49m\u001b[38;5;241;43m.\u001b[39;49m\u001b[43m_print_pil\u001b[49m\u001b[43m(\u001b[49m\u001b[43mfilename_or_obj\u001b[49m\u001b[43m,\u001b[49m\u001b[43m \u001b[49m\u001b[38;5;124;43m\"\u001b[39;49m\u001b[38;5;124;43mpng\u001b[39;49m\u001b[38;5;124;43m\"\u001b[39;49m\u001b[43m,\u001b[49m\u001b[43m \u001b[49m\u001b[43mpil_kwargs\u001b[49m\u001b[43m,\u001b[49m\u001b[43m \u001b[49m\u001b[43mmetadata\u001b[49m\u001b[43m)\u001b[49m\n",
      "File \u001b[0;32m~/micromamba/envs/pyscenic/lib/python3.10/site-packages/matplotlib/backends/backend_agg.py:445\u001b[0m, in \u001b[0;36mFigureCanvasAgg._print_pil\u001b[0;34m(self, filename_or_obj, fmt, pil_kwargs, metadata)\u001b[0m\n\u001b[1;32m    440\u001b[0m \u001b[38;5;28;01mdef\u001b[39;00m \u001b[38;5;21m_print_pil\u001b[39m(\u001b[38;5;28mself\u001b[39m, filename_or_obj, fmt, pil_kwargs, metadata\u001b[38;5;241m=\u001b[39m\u001b[38;5;28;01mNone\u001b[39;00m):\n\u001b[1;32m    441\u001b[0m \u001b[38;5;250m    \u001b[39m\u001b[38;5;124;03m\"\"\"\u001b[39;00m\n\u001b[1;32m    442\u001b[0m \u001b[38;5;124;03m    Draw the canvas, then save it using `.image.imsave` (to which\u001b[39;00m\n\u001b[1;32m    443\u001b[0m \u001b[38;5;124;03m    *pil_kwargs* and *metadata* are forwarded).\u001b[39;00m\n\u001b[1;32m    444\u001b[0m \u001b[38;5;124;03m    \"\"\"\u001b[39;00m\n\u001b[0;32m--> 445\u001b[0m     \u001b[43mFigureCanvasAgg\u001b[49m\u001b[38;5;241;43m.\u001b[39;49m\u001b[43mdraw\u001b[49m\u001b[43m(\u001b[49m\u001b[38;5;28;43mself\u001b[39;49m\u001b[43m)\u001b[49m\n\u001b[1;32m    446\u001b[0m     mpl\u001b[38;5;241m.\u001b[39mimage\u001b[38;5;241m.\u001b[39mimsave(\n\u001b[1;32m    447\u001b[0m         filename_or_obj, \u001b[38;5;28mself\u001b[39m\u001b[38;5;241m.\u001b[39mbuffer_rgba(), \u001b[38;5;28mformat\u001b[39m\u001b[38;5;241m=\u001b[39mfmt, origin\u001b[38;5;241m=\u001b[39m\u001b[38;5;124m\"\u001b[39m\u001b[38;5;124mupper\u001b[39m\u001b[38;5;124m\"\u001b[39m,\n\u001b[1;32m    448\u001b[0m         dpi\u001b[38;5;241m=\u001b[39m\u001b[38;5;28mself\u001b[39m\u001b[38;5;241m.\u001b[39mfigure\u001b[38;5;241m.\u001b[39mdpi, metadata\u001b[38;5;241m=\u001b[39mmetadata, pil_kwargs\u001b[38;5;241m=\u001b[39mpil_kwargs)\n",
      "File \u001b[0;32m~/micromamba/envs/pyscenic/lib/python3.10/site-packages/matplotlib/backends/backend_agg.py:383\u001b[0m, in \u001b[0;36mFigureCanvasAgg.draw\u001b[0;34m(self)\u001b[0m\n\u001b[1;32m    381\u001b[0m \u001b[38;5;28;01mdef\u001b[39;00m \u001b[38;5;21mdraw\u001b[39m(\u001b[38;5;28mself\u001b[39m):\n\u001b[1;32m    382\u001b[0m     \u001b[38;5;66;03m# docstring inherited\u001b[39;00m\n\u001b[0;32m--> 383\u001b[0m     \u001b[38;5;28mself\u001b[39m\u001b[38;5;241m.\u001b[39mrenderer \u001b[38;5;241m=\u001b[39m \u001b[38;5;28;43mself\u001b[39;49m\u001b[38;5;241;43m.\u001b[39;49m\u001b[43mget_renderer\u001b[49m\u001b[43m(\u001b[49m\u001b[43m)\u001b[49m\n\u001b[1;32m    384\u001b[0m     \u001b[38;5;28mself\u001b[39m\u001b[38;5;241m.\u001b[39mrenderer\u001b[38;5;241m.\u001b[39mclear()\n\u001b[1;32m    385\u001b[0m     \u001b[38;5;66;03m# Acquire a lock on the shared font cache.\u001b[39;00m\n",
      "File \u001b[0;32m~/micromamba/envs/pyscenic/lib/python3.10/site-packages/matplotlib/backends/backend_agg.py:398\u001b[0m, in \u001b[0;36mFigureCanvasAgg.get_renderer\u001b[0;34m(self)\u001b[0m\n\u001b[1;32m    396\u001b[0m reuse_renderer \u001b[38;5;241m=\u001b[39m (\u001b[38;5;28mself\u001b[39m\u001b[38;5;241m.\u001b[39m_lastKey \u001b[38;5;241m==\u001b[39m key)\n\u001b[1;32m    397\u001b[0m \u001b[38;5;28;01mif\u001b[39;00m \u001b[38;5;129;01mnot\u001b[39;00m reuse_renderer:\n\u001b[0;32m--> 398\u001b[0m     \u001b[38;5;28mself\u001b[39m\u001b[38;5;241m.\u001b[39mrenderer \u001b[38;5;241m=\u001b[39m \u001b[43mRendererAgg\u001b[49m\u001b[43m(\u001b[49m\u001b[43mw\u001b[49m\u001b[43m,\u001b[49m\u001b[43m \u001b[49m\u001b[43mh\u001b[49m\u001b[43m,\u001b[49m\u001b[43m \u001b[49m\u001b[38;5;28;43mself\u001b[39;49m\u001b[38;5;241;43m.\u001b[39;49m\u001b[43mfigure\u001b[49m\u001b[38;5;241;43m.\u001b[39;49m\u001b[43mdpi\u001b[49m\u001b[43m)\u001b[49m\n\u001b[1;32m    399\u001b[0m     \u001b[38;5;28mself\u001b[39m\u001b[38;5;241m.\u001b[39m_lastKey \u001b[38;5;241m=\u001b[39m key\n\u001b[1;32m    400\u001b[0m \u001b[38;5;28;01mreturn\u001b[39;00m \u001b[38;5;28mself\u001b[39m\u001b[38;5;241m.\u001b[39mrenderer\n",
      "File \u001b[0;32m~/micromamba/envs/pyscenic/lib/python3.10/site-packages/matplotlib/backends/backend_agg.py:70\u001b[0m, in \u001b[0;36mRendererAgg.__init__\u001b[0;34m(self, width, height, dpi)\u001b[0m\n\u001b[1;32m     68\u001b[0m \u001b[38;5;28mself\u001b[39m\u001b[38;5;241m.\u001b[39mwidth \u001b[38;5;241m=\u001b[39m width\n\u001b[1;32m     69\u001b[0m \u001b[38;5;28mself\u001b[39m\u001b[38;5;241m.\u001b[39mheight \u001b[38;5;241m=\u001b[39m height\n\u001b[0;32m---> 70\u001b[0m \u001b[38;5;28mself\u001b[39m\u001b[38;5;241m.\u001b[39m_renderer \u001b[38;5;241m=\u001b[39m \u001b[43m_RendererAgg\u001b[49m\u001b[43m(\u001b[49m\u001b[38;5;28;43mint\u001b[39;49m\u001b[43m(\u001b[49m\u001b[43mwidth\u001b[49m\u001b[43m)\u001b[49m\u001b[43m,\u001b[49m\u001b[43m \u001b[49m\u001b[38;5;28;43mint\u001b[39;49m\u001b[43m(\u001b[49m\u001b[43mheight\u001b[49m\u001b[43m)\u001b[49m\u001b[43m,\u001b[49m\u001b[43m \u001b[49m\u001b[43mdpi\u001b[49m\u001b[43m)\u001b[49m\n\u001b[1;32m     71\u001b[0m \u001b[38;5;28mself\u001b[39m\u001b[38;5;241m.\u001b[39m_filter_renderers \u001b[38;5;241m=\u001b[39m []\n\u001b[1;32m     73\u001b[0m \u001b[38;5;28mself\u001b[39m\u001b[38;5;241m.\u001b[39m_update_methods()\n",
      "\u001b[0;31mValueError\u001b[0m: Image size of 575x374957 pixels is too large. It must be less than 2^16 in each direction."
     ]
    },
    {
     "data": {
      "text/plain": [
       "<Figure size 640x480 with 1 Axes>"
      ]
     },
     "metadata": {},
     "output_type": "display_data"
    }
   ],
   "source": [
    "import seaborn as sns\n",
    "sns.histplot(adata.X.sum(axis=0), bins=100)"
   ]
  },
  {
   "cell_type": "markdown",
   "metadata": {},
   "source": [
    "# CLI"
   ]
  },
  {
   "cell_type": "code",
   "execution_count": null,
   "metadata": {},
   "outputs": [],
   "source": [
    "def create_loom(adata, path):\n",
    "    row = {\"Gene\": np.array(adata.var_names)}\n",
    "    col = {\"CellID\": np.array(adata.obs_names),\"nGene\": np.array(np.sum(adata.X.transpose()>0 , axis=0)).flatten() ,\"nUMI\": np.array(np.sum(adata.X.transpose() , axis=0)).flatten()}\n",
    "    matrix = adata.X.transpose()\n",
    "    lp.create(path, matrix, row, col)\n",
    "    \n",
    "adata.X = adata.layers['counts']\n",
    "create_loom(adata, 'seacell_scaled.loom')"
   ]
  },
  {
   "cell_type": "markdown",
   "metadata": {},
   "source": [
    "- check before CLI"
   ]
  },
  {
   "cell_type": "code",
   "execution_count": null,
   "metadata": {},
   "outputs": [],
   "source": [
    "\n",
    "tfs = [tf.strip() for tf in open('../../annotations/_tf.txt')]\n",
    "print(len(tfs))\n",
    "print(f\"{np.sum(adata.var.index.isin(tfs))} out of {len(tfs)} TFs are found in the object\")"
   ]
  },
  {
   "cell_type": "markdown",
   "metadata": {},
   "source": [
    "- CLI (version 0.12 이상)"
   ]
  },
  {
   "cell_type": "code",
   "execution_count": null,
   "metadata": {},
   "outputs": [],
   "source": [
    "pyscenic grn seacell_scaled.loom ~/mnt/annotations/_tf.txt -o adj.csv --num_workers 36"
   ]
  },
  {
   "cell_type": "code",
   "execution_count": null,
   "metadata": {},
   "outputs": [],
   "source": [
    "pyscenic ctx adj.csv ~/mnt/annotations/new/*rankings.feather --annotations_fname ~/mnt/annotations/_motifs.tbl --expression_mtx_fname filtered.loom --output reg.csv --min_genes 10 --mask_dropouts --num_workers 36"
   ]
  },
  {
   "cell_type": "code",
   "execution_count": null,
   "metadata": {},
   "outputs": [],
   "source": [
    "pyscenic aucell seacell_scaled.loom reg_scaled.csv --output scenic_out.loom --auc_threshold 0.01  --num_workers 14 "
   ]
  },
  {
   "cell_type": "markdown",
   "metadata": {},
   "source": [
    "# Downstream analysis in Science journal"
   ]
  },
  {
   "cell_type": "code",
   "execution_count": 7,
   "metadata": {},
   "outputs": [],
   "source": [
    "adata = sc.read_h5ad(os.path.join(data_path, '/Users/jiehoonk/DevHub/mnt/dataset/TFlistup/data/seacell_scvi.h5ad'))\n",
    "adj = pd.read_csv(os.path.join(data_path, \"adj_scaled.csv\"),)\n",
    "\n",
    "regulons = {}\n",
    "with lp.connect(os.path.join(data_path,'scenic_out.loom'), mode=\"r+\", validate=False) as lf:\n",
    "    auc_mtx = pd.DataFrame(lf.ca.RegulonsAUC, index=lf.ca.CellID)\n",
    "    exprMat = pd.DataFrame( lf[:,:], index=lf.ra.Gene, columns=lf.ca.CellID).T\n",
    "    regulon_df = pd.DataFrame(lf.ra.Regulons, index=lf.ra.Gene)\n",
    "    for i,r in pd.DataFrame(lf.ra.Regulons,index=lf.ra.Gene).items():\n",
    "        regulons[i] =  list(r[r==1].index.values)"
   ]
  },
  {
   "cell_type": "code",
   "execution_count": 9,
   "metadata": {},
   "outputs": [
    {
     "data": {
      "text/html": [
       "<div>\n",
       "<style scoped>\n",
       "    .dataframe tbody tr th:only-of-type {\n",
       "        vertical-align: middle;\n",
       "    }\n",
       "\n",
       "    .dataframe tbody tr th {\n",
       "        vertical-align: top;\n",
       "    }\n",
       "\n",
       "    .dataframe thead th {\n",
       "        text-align: right;\n",
       "    }\n",
       "</style>\n",
       "<table border=\"1\" class=\"dataframe\">\n",
       "  <thead>\n",
       "    <tr style=\"text-align: right;\">\n",
       "      <th></th>\n",
       "      <th>AHRR</th>\n",
       "      <th>ALX4</th>\n",
       "      <th>ARNT</th>\n",
       "      <th>ARX</th>\n",
       "      <th>ASCL2</th>\n",
       "      <th>ATF1</th>\n",
       "      <th>ATF2</th>\n",
       "      <th>ATF3</th>\n",
       "      <th>ATF4</th>\n",
       "      <th>BARX1</th>\n",
       "      <th>...</th>\n",
       "      <th>ZNF808</th>\n",
       "      <th>ZNF836</th>\n",
       "      <th>ZNF841</th>\n",
       "      <th>ZNF860</th>\n",
       "      <th>ZNF879</th>\n",
       "      <th>ZNF90</th>\n",
       "      <th>ZNF92</th>\n",
       "      <th>ZNF93</th>\n",
       "      <th>ZNF98</th>\n",
       "      <th>ZSCAN12</th>\n",
       "    </tr>\n",
       "  </thead>\n",
       "  <tbody>\n",
       "    <tr>\n",
       "      <th>malignant cell</th>\n",
       "      <td>0.242564</td>\n",
       "      <td>0.296269</td>\n",
       "      <td>0.180977</td>\n",
       "      <td>0.295507</td>\n",
       "      <td>0.234543</td>\n",
       "      <td>0.190389</td>\n",
       "      <td>0.365219</td>\n",
       "      <td>0.623694</td>\n",
       "      <td>0.585005</td>\n",
       "      <td>0.364839</td>\n",
       "      <td>...</td>\n",
       "      <td>0.205790</td>\n",
       "      <td>0.363907</td>\n",
       "      <td>0.316149</td>\n",
       "      <td>0.231875</td>\n",
       "      <td>0.236191</td>\n",
       "      <td>0.266663</td>\n",
       "      <td>0.241194</td>\n",
       "      <td>0.250121</td>\n",
       "      <td>0.293403</td>\n",
       "      <td>0.195277</td>\n",
       "    </tr>\n",
       "    <tr>\n",
       "      <th>oligodendrocyte</th>\n",
       "      <td>0.224742</td>\n",
       "      <td>0.227891</td>\n",
       "      <td>0.208448</td>\n",
       "      <td>0.180748</td>\n",
       "      <td>0.205103</td>\n",
       "      <td>0.203583</td>\n",
       "      <td>0.240628</td>\n",
       "      <td>0.296430</td>\n",
       "      <td>0.316555</td>\n",
       "      <td>0.205551</td>\n",
       "      <td>...</td>\n",
       "      <td>0.194664</td>\n",
       "      <td>0.235036</td>\n",
       "      <td>0.219564</td>\n",
       "      <td>0.201339</td>\n",
       "      <td>0.192962</td>\n",
       "      <td>0.191764</td>\n",
       "      <td>0.201234</td>\n",
       "      <td>0.205161</td>\n",
       "      <td>0.213080</td>\n",
       "      <td>0.188744</td>\n",
       "    </tr>\n",
       "    <tr>\n",
       "      <th>oligodendrocyte precursor cell</th>\n",
       "      <td>0.199689</td>\n",
       "      <td>0.180548</td>\n",
       "      <td>0.187160</td>\n",
       "      <td>0.178667</td>\n",
       "      <td>0.179828</td>\n",
       "      <td>0.180680</td>\n",
       "      <td>0.199072</td>\n",
       "      <td>0.196926</td>\n",
       "      <td>0.201636</td>\n",
       "      <td>0.196004</td>\n",
       "      <td>...</td>\n",
       "      <td>0.168354</td>\n",
       "      <td>0.188162</td>\n",
       "      <td>0.187647</td>\n",
       "      <td>0.195315</td>\n",
       "      <td>0.172682</td>\n",
       "      <td>0.202614</td>\n",
       "      <td>0.184397</td>\n",
       "      <td>0.199559</td>\n",
       "      <td>0.231448</td>\n",
       "      <td>0.171219</td>\n",
       "    </tr>\n",
       "    <tr>\n",
       "      <th>neuron</th>\n",
       "      <td>0.181744</td>\n",
       "      <td>0.208984</td>\n",
       "      <td>0.167445</td>\n",
       "      <td>0.248557</td>\n",
       "      <td>0.186073</td>\n",
       "      <td>0.172898</td>\n",
       "      <td>0.179599</td>\n",
       "      <td>0.191420</td>\n",
       "      <td>0.183881</td>\n",
       "      <td>0.210192</td>\n",
       "      <td>...</td>\n",
       "      <td>0.169211</td>\n",
       "      <td>0.187525</td>\n",
       "      <td>0.192978</td>\n",
       "      <td>0.169951</td>\n",
       "      <td>0.170581</td>\n",
       "      <td>0.170776</td>\n",
       "      <td>0.178043</td>\n",
       "      <td>0.172847</td>\n",
       "      <td>0.180790</td>\n",
       "      <td>0.167445</td>\n",
       "    </tr>\n",
       "    <tr>\n",
       "      <th>astrocyte</th>\n",
       "      <td>0.167445</td>\n",
       "      <td>0.168330</td>\n",
       "      <td>0.174945</td>\n",
       "      <td>0.167445</td>\n",
       "      <td>0.167445</td>\n",
       "      <td>0.167445</td>\n",
       "      <td>0.168083</td>\n",
       "      <td>0.171055</td>\n",
       "      <td>0.169147</td>\n",
       "      <td>0.167467</td>\n",
       "      <td>...</td>\n",
       "      <td>0.167445</td>\n",
       "      <td>0.168043</td>\n",
       "      <td>0.170841</td>\n",
       "      <td>0.169237</td>\n",
       "      <td>0.172473</td>\n",
       "      <td>0.170016</td>\n",
       "      <td>0.170731</td>\n",
       "      <td>0.168378</td>\n",
       "      <td>0.187165</td>\n",
       "      <td>0.167445</td>\n",
       "    </tr>\n",
       "  </tbody>\n",
       "</table>\n",
       "<p>5 rows × 318 columns</p>\n",
       "</div>"
      ],
      "text/plain": [
       "                                    AHRR      ALX4      ARNT       ARX  \\\n",
       "malignant cell                  0.242564  0.296269  0.180977  0.295507   \n",
       "oligodendrocyte                 0.224742  0.227891  0.208448  0.180748   \n",
       "oligodendrocyte precursor cell  0.199689  0.180548  0.187160  0.178667   \n",
       "neuron                          0.181744  0.208984  0.167445  0.248557   \n",
       "astrocyte                       0.167445  0.168330  0.174945  0.167445   \n",
       "\n",
       "                                   ASCL2      ATF1      ATF2      ATF3  \\\n",
       "malignant cell                  0.234543  0.190389  0.365219  0.623694   \n",
       "oligodendrocyte                 0.205103  0.203583  0.240628  0.296430   \n",
       "oligodendrocyte precursor cell  0.179828  0.180680  0.199072  0.196926   \n",
       "neuron                          0.186073  0.172898  0.179599  0.191420   \n",
       "astrocyte                       0.167445  0.167445  0.168083  0.171055   \n",
       "\n",
       "                                    ATF4     BARX1  ...    ZNF808    ZNF836  \\\n",
       "malignant cell                  0.585005  0.364839  ...  0.205790  0.363907   \n",
       "oligodendrocyte                 0.316555  0.205551  ...  0.194664  0.235036   \n",
       "oligodendrocyte precursor cell  0.201636  0.196004  ...  0.168354  0.188162   \n",
       "neuron                          0.183881  0.210192  ...  0.169211  0.187525   \n",
       "astrocyte                       0.169147  0.167467  ...  0.167445  0.168043   \n",
       "\n",
       "                                  ZNF841    ZNF860    ZNF879     ZNF90  \\\n",
       "malignant cell                  0.316149  0.231875  0.236191  0.266663   \n",
       "oligodendrocyte                 0.219564  0.201339  0.192962  0.191764   \n",
       "oligodendrocyte precursor cell  0.187647  0.195315  0.172682  0.202614   \n",
       "neuron                          0.192978  0.169951  0.170581  0.170776   \n",
       "astrocyte                       0.170841  0.169237  0.172473  0.170016   \n",
       "\n",
       "                                   ZNF92     ZNF93     ZNF98   ZSCAN12  \n",
       "malignant cell                  0.241194  0.250121  0.293403  0.195277  \n",
       "oligodendrocyte                 0.201234  0.205161  0.213080  0.188744  \n",
       "oligodendrocyte precursor cell  0.184397  0.199559  0.231448  0.171219  \n",
       "neuron                          0.178043  0.172847  0.180790  0.167445  \n",
       "astrocyte                       0.170731  0.168378  0.187165  0.167445  \n",
       "\n",
       "[5 rows x 318 columns]"
      ]
     },
     "execution_count": 9,
     "metadata": {},
     "output_type": "execute_result"
    }
   ],
   "source": [
    "rss = regulon_specificity_scores(auc_mtx.iloc[:,:-1], adata.obs.cell_type)\n",
    "rss.columns = [f.replace(\"(+)\", \"\") for f in list(rss.columns)]\n",
    "rss.head()"
   ]
  },
  {
   "cell_type": "markdown",
   "metadata": {},
   "source": [
    "- select 100 regulons with highest score for each `cell_type`"
   ]
  },
  {
   "cell_type": "code",
   "execution_count": 10,
   "metadata": {},
   "outputs": [
    {
     "data": {
      "text/plain": [
       "Index(['NFKB2', 'RFX2', 'FOSL2', 'JUN', 'ATF3', 'REL', 'CEBPD', 'FOSL1',\n",
       "       'CEBPB', 'BCL3', 'SOX4', 'NFKB1', 'IRF1', 'RELB', 'HOXA10', 'KLF12',\n",
       "       'HOXA9', 'ATF4', 'SPI1', 'FLI1', 'HOXB13', 'RUNX3', 'MAFB', 'JUND',\n",
       "       'JUNB', 'PAX2', 'E2F1', 'MNX1', 'DRGX', 'IRF7', 'HOXA5', 'SOX5', 'TAF1',\n",
       "       'GATA1', 'IKZF1', 'HOXC10', 'XBP1', 'GATA4', 'PGR', 'YBX1', 'HOXD3',\n",
       "       'MAF', 'HOXD10', 'HOXD9', 'HOXD11', 'HOXB2', 'MYCN', 'MYC', 'TCF7L1',\n",
       "       'POU3F2', 'ZNF749', 'CUX1', 'MAFG', 'FOS', 'TBR1', 'GCM2', 'VAX2',\n",
       "       'IRF4', 'NR1H4', 'GATA3', 'GSX2', 'DLX2', 'PPARG', 'HOXC11', 'E2F3',\n",
       "       'VDR', 'ERF', 'GATA2', 'NFIX', 'IRF2', 'KLF7', 'CEBPG', 'NFE2',\n",
       "       'HOXA13', 'HNF4A', 'ETS2', 'FOSB', 'IRX3', 'ETV2', 'GCM1', 'TFAP2C',\n",
       "       'STAT1', 'MYBL2', 'TCF7L2', 'ZNF177', 'MAFF', 'HOXD13', 'SOX10', 'RAX',\n",
       "       'RCOR1', 'HIVEP2', 'YY1', 'ESRRB', 'BCLAF1', 'STAT6', 'HOXB5', 'PITX1',\n",
       "       'ETS1', 'SNAI3', 'FEZF2'],\n",
       "      dtype='object')"
      ]
     },
     "execution_count": 10,
     "metadata": {},
     "output_type": "execute_result"
    }
   ],
   "source": [
    "cell_type = \"malignant cell\"\n",
    "top_regulons = rss.T.sort_values(cell_type, ascending=False).head(100).index\n",
    "top_regulons"
   ]
  },
  {
   "cell_type": "markdown",
   "metadata": {},
   "source": [
    "- top 20% score from `adj.csv`"
   ]
  },
  {
   "cell_type": "code",
   "execution_count": 11,
   "metadata": {},
   "outputs": [
    {
     "data": {
      "text/plain": [
       "count    1.923173e+06\n",
       "mean     3.166522e-01\n",
       "std      7.046519e-01\n",
       "min      3.560391e-19\n",
       "25%      5.762819e-02\n",
       "50%      1.108635e-01\n",
       "75%      2.754288e-01\n",
       "max      3.262220e+01\n",
       "Name: importance, dtype: float64"
      ]
     },
     "execution_count": 11,
     "metadata": {},
     "output_type": "execute_result"
    }
   ],
   "source": [
    "adj.importance.describe()"
   ]
  },
  {
   "cell_type": "markdown",
   "metadata": {},
   "source": [
    "- top 20은 ATAC data에서 검증"
   ]
  },
  {
   "cell_type": "code",
   "execution_count": 12,
   "metadata": {},
   "outputs": [
    {
     "name": "stdout",
     "output_type": "stream",
     "text": [
      "100\n"
     ]
    }
   ],
   "source": [
    "threshold = adj.importance.quantile(0.80)\n",
    "output = adj[adj.TF.isin(top_regulons) & (adj.importance>threshold)].sort_values(\"importance\", ascending=False)\n",
    "print(len(output.TF.unique()))"
   ]
  },
  {
   "cell_type": "code",
   "execution_count": 14,
   "metadata": {},
   "outputs": [],
   "source": [
    "output.to_csv(os.path.join(data_path, \"top_regulons.csv\"), index=False)"
   ]
  },
  {
   "cell_type": "markdown",
   "metadata": {},
   "source": [
    "# ETC"
   ]
  },
  {
   "cell_type": "code",
   "execution_count": 53,
   "metadata": {},
   "outputs": [
    {
     "data": {
      "text/html": [
       "<div>\n",
       "<style scoped>\n",
       "    .dataframe tbody tr th:only-of-type {\n",
       "        vertical-align: middle;\n",
       "    }\n",
       "\n",
       "    .dataframe tbody tr th {\n",
       "        vertical-align: top;\n",
       "    }\n",
       "\n",
       "    .dataframe thead th {\n",
       "        text-align: right;\n",
       "    }\n",
       "</style>\n",
       "<table border=\"1\" class=\"dataframe\">\n",
       "  <thead>\n",
       "    <tr style=\"text-align: right;\">\n",
       "      <th></th>\n",
       "      <th>ALX4(+)</th>\n",
       "      <th>ATF1(+)</th>\n",
       "      <th>ATF2(+)</th>\n",
       "      <th>BARX1(+)</th>\n",
       "      <th>BCL11B(+)</th>\n",
       "      <th>BCL6B(+)</th>\n",
       "      <th>CEBPG(+)</th>\n",
       "      <th>CEBPZ(+)</th>\n",
       "      <th>CHD2(+)</th>\n",
       "      <th>CREB3L1(+)</th>\n",
       "      <th>...</th>\n",
       "      <th>ZNF782(+)</th>\n",
       "      <th>ZNF786(+)</th>\n",
       "      <th>ZNF79(+)</th>\n",
       "      <th>ZNF799(+)</th>\n",
       "      <th>ZNF836(+)</th>\n",
       "      <th>ZNF879(+)</th>\n",
       "      <th>ZSCAN2(+)</th>\n",
       "      <th>ZSCAN20(+)</th>\n",
       "      <th>ZSCAN5B(+)</th>\n",
       "      <th>ZXDB(+)</th>\n",
       "    </tr>\n",
       "  </thead>\n",
       "  <tbody>\n",
       "    <tr>\n",
       "      <th>malignant cell</th>\n",
       "      <td>0.452009</td>\n",
       "      <td>0.343073</td>\n",
       "      <td>0.691062</td>\n",
       "      <td>0.415521</td>\n",
       "      <td>0.242193</td>\n",
       "      <td>0.595671</td>\n",
       "      <td>0.850226</td>\n",
       "      <td>0.35573</td>\n",
       "      <td>0.273126</td>\n",
       "      <td>0.300301</td>\n",
       "      <td>...</td>\n",
       "      <td>0.544269</td>\n",
       "      <td>0.414111</td>\n",
       "      <td>0.67625</td>\n",
       "      <td>0.313054</td>\n",
       "      <td>0.418658</td>\n",
       "      <td>0.380048</td>\n",
       "      <td>0.789262</td>\n",
       "      <td>0.34353</td>\n",
       "      <td>0.193759</td>\n",
       "      <td>0.334422</td>\n",
       "    </tr>\n",
       "  </tbody>\n",
       "</table>\n",
       "<p>1 rows × 160 columns</p>\n",
       "</div>"
      ],
      "text/plain": [
       "                 ALX4(+)   ATF1(+)   ATF2(+)  BARX1(+)  BCL11B(+)  BCL6B(+)  \\\n",
       "malignant cell  0.452009  0.343073  0.691062  0.415521   0.242193  0.595671   \n",
       "\n",
       "                CEBPG(+)  CEBPZ(+)   CHD2(+)  CREB3L1(+)  ...  ZNF782(+)  \\\n",
       "malignant cell  0.850226   0.35573  0.273126    0.300301  ...   0.544269   \n",
       "\n",
       "                ZNF786(+)  ZNF79(+)  ZNF799(+)  ZNF836(+)  ZNF879(+)  \\\n",
       "malignant cell   0.414111   0.67625   0.313054   0.418658   0.380048   \n",
       "\n",
       "                ZSCAN2(+)  ZSCAN20(+)  ZSCAN5B(+)   ZXDB(+)  \n",
       "malignant cell   0.789262     0.34353    0.193759  0.334422  \n",
       "\n",
       "[1 rows x 160 columns]"
      ]
     },
     "execution_count": 53,
     "metadata": {},
     "output_type": "execute_result"
    }
   ],
   "source": [
    "# 직접 rss 함수 수정함 : ~/micromamba/envs/pyscenic_x64/lib/python3.10/site-packages/pyscenic/rss.py\n",
    "# remove the last column of auc_mtx : cell_type\n",
    "rss = regulon_specificity_scores(auc_mtx.iloc[:,:-1], adata.obs.cell_type)\n",
    "rss.head()"
   ]
  },
  {
   "cell_type": "code",
   "execution_count": 54,
   "metadata": {},
   "outputs": [],
   "source": [
    "tfs = [f.replace(\"(+)\", \"\") for f in list(rss.columns)]"
   ]
  },
  {
   "cell_type": "code",
   "execution_count": 55,
   "metadata": {},
   "outputs": [],
   "source": [
    "rss_concat = pd.DataFrame({\n",
    "    'Specificity': rss.values.flatten(),\n",
    "    'AUC': mean_auc_by_cell_type.values.flatten()},\n",
    "    index=tfs\n",
    ")\n",
    "rss_concat = rss_concat.sort_values(by='AUC', ascending=False)"
   ]
  },
  {
   "cell_type": "code",
   "execution_count": 97,
   "metadata": {},
   "outputs": [
    {
     "data": {
      "image/png": "[encoded data removed]",
      "text/plain": [
       "<Figure size 300x600 with 1 Axes>"
      ]
     },
     "metadata": {},
     "output_type": "display_data"
    }
   ],
   "source": [
    "cats = list(adata.obs.cell_type.unique())\n",
    "\n",
    "# Plot for the first category only\n",
    "c = cats[0]\n",
    "fig = plt.figure(figsize=(3, 6))\n",
    "\n",
    "x = rss.T[c]\n",
    "ax = fig.add_subplot(1, 1, 1)  # Only one subplot\n",
    "plot_rss(rss, c, top_n=5, max_n=None, ax=ax)\n",
    "ax.set_ylim(x.min() - (x.max() - x.min()) * 0.05, x.max() + (x.max() - x.min()) * 0.05)\n",
    "\n",
    "for t in ax.texts:\n",
    "    t.set_fontsize(12)\n",
    "ax.set_ylabel('')\n",
    "ax.set_xlabel('')\n",
    "adjust_text(ax.texts, arrowprops=dict(arrowstyle='-', color='lightgrey'))\n",
    "\n",
    "fig.text(0.5, 0.0, 'Regulon', ha='center', va='center', size='x-large')\n",
    "fig.text(0.00, 0.5, 'Regulon specificity score (RSS)', ha='center', va='center', rotation='vertical', size='x-large')\n",
    "plt.tight_layout()\n",
    "plt.rcParams.update({\n",
    "    'figure.autolayout': True,\n",
    "    'figure.titlesize': 'large',\n",
    "    'axes.labelsize': 'medium',\n",
    "    'axes.titlesize': 'large',\n",
    "    'xtick.labelsize': 'medium',\n",
    "    'ytick.labelsize': 'medium'\n",
    "})\n",
    "\n",
    "# plt.savefig(\"PBMC10k_cellType-RSS-top5.pdf\", dpi=600, bbox_inches=\"tight\")\n",
    "plt.show()"
   ]
  }
 ],
 "metadata": {
  "kernelspec": {
   "display_name": "Python 3 (ipykernel)",
   "language": "python",
   "name": "python3"
  },
  "language_info": {
   "codemirror_mode": {
    "name": "ipython",
    "version": 3
   },
   "file_extension": ".py",
   "mimetype": "text/x-python",
   "name": "python",
   "nbconvert_exporter": "python",
   "pygments_lexer": "ipython3",
   "version": "3.10.6"
  }
 },
 "nbformat": 4,
 "nbformat_minor": 2
}
