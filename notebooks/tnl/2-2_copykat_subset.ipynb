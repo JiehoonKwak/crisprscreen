{
 "cells": [
  {
   "cell_type": "markdown",
   "metadata": {},
   "source": [
    "run copykat in tumor"
   ]
  },
  {
   "cell_type": "code",
   "execution_count": 4,
   "metadata": {},
   "outputs": [],
   "source": [
    "import os\n",
    "import scanpy as sc\n",
    "import numpy as np\n",
    "import infercnvpy as cnv"
   ]
  },
  {
   "cell_type": "code",
   "execution_count": 2,
   "metadata": {},
   "outputs": [],
   "source": [
    "adata = sc.read_h5ad('../../output/annotated_subset.h5ad')"
   ]
  },
  {
   "cell_type": "code",
   "execution_count": 7,
   "metadata": {},
   "outputs": [
    {
     "name": "stdout",
     "output_type": "stream",
     "text": [
      "4177.0\n"
     ]
    },
    {
     "data": {
      "text/plain": [
       "AnnData object with n_obs × n_vars = 51879 × 36579\n",
       "    obs: 'sample_id', 'tissue', 'patient_id', 'author', 'barcode', 'n_genes', 'n_genes_by_counts', 'log1p_n_genes_by_counts', 'total_counts', 'log1p_total_counts', 'pct_counts_in_top_20_genes', 'pct_counts_mt', 'pct_counts_ribo', 'pct_counts_hb', 'scDblFinder_score', 'scDblFinder_class', 'doublet_score', 'predicted_doublet', 'leiden', 'developing_human_brain_anno', 'developing_human_brain_conf_score', 'human_adultaged_hippocampus_anno', 'human_adultaged_hippocampus_conf_score', 'human_longitudinal_hippocampus_anno', 'human_longitudinal_hippocampus_conf_score', 'gbmap_ref_model_anno', 'gbmap_ref_model_conf_score', 'gbmap_ref_hvg_anno', 'gbmap_ref_hvg_conf_score', 'cell_type', 'cas_cell_type_score_1', 'cas_cell_type_name_1', 'cas_cell_type_label_1', 'cas_cell_type_score_2', 'cas_cell_type_name_2', 'cas_cell_type_label_2', 'cas_cell_type_score_3', 'cas_cell_type_name_3', 'cas_cell_type_label_3', 'cnv_leiden', 'cnv_score', 'each_cell_type', 'rough_cell_type'\n",
       "    uns: 'cell_type_colors', 'cell_type_sizes', 'draw_graph', 'each_cell_type_colors', 'neighbors', 'paga', 'tissue_colors', 'tsne', 'umap'\n",
       "    obsm: 'X_draw_graph_fa', 'X_pca', 'X_scANVI', 'X_scVI', 'X_umap'\n",
       "    layers: 'counts', 'log1p'\n",
       "    obsp: 'connectivities', 'distances'"
      ]
     },
     "execution_count": 7,
     "metadata": {},
     "output_type": "execute_result"
    }
   ],
   "source": [
    "print(np.max(adata.X))\n",
    "adata"
   ]
  },
  {
   "cell_type": "code",
   "execution_count": 8,
   "metadata": {},
   "outputs": [
    {
     "name": "stderr",
     "output_type": "stream",
     "text": [
      "INFO:rpy2.situation:cffi mode is CFFI_MODE.ANY\n",
      "INFO:rpy2.situation:R home found: /home/jiehoonk/micromamba/envs/sc_base_with_r/lib/R\n",
      "INFO:rpy2.situation:R library path: \n",
      "INFO:rpy2.situation:LD_LIBRARY_PATH: \n",
      "INFO:rpy2.rinterface_lib.embedded:Default options to initialize R: rpy2, --quiet, --no-save\n",
      ": Successfullly loaded R Profile\n",
      "INFO:rpy2.rinterface_lib.embedded:R is already initialized. No need to initialize.\n"
     ]
    },
    {
     "name": "stdout",
     "output_type": "stream",
     "text": [
      "[1] \"running copykat v1.1.0\"\n",
      "[1] \"step1: read and filter data ...\"\n",
      "[1] \"36579 genes, 51879 cells in raw data\"\n",
      "[1] \"10267 genes past LOW.DR filtering\"\n",
      "[1] \"step 2: annotations gene coordinates ...\"\n",
      "[1] \"start annotation ...\"\n",
      "[1] \"step 3: smoothing data with dlm ...\"\n"
     ]
    },
    {
     "name": "stderr",
     "output_type": "stream",
     "text": [
      "WARNING:rpy2.rinterface_lib.callbacks:R[write to console]: \n",
      "\n"
     ]
    },
    {
     "ename": "RRuntimeError",
     "evalue": "",
     "output_type": "error",
     "traceback": [
      "\u001b[0;31m---------------------------------------------------------------------------\u001b[0m",
      "\u001b[0;31mRRuntimeError\u001b[0m                             Traceback (most recent call last)",
      "Cell \u001b[0;32mIn[8], line 1\u001b[0m\n\u001b[0;32m----> 1\u001b[0m \u001b[43mcnv\u001b[49m\u001b[38;5;241;43m.\u001b[39;49m\u001b[43mtl\u001b[49m\u001b[38;5;241;43m.\u001b[39;49m\u001b[43mcopykat\u001b[49m\u001b[43m(\u001b[49m\u001b[43madata\u001b[49m\u001b[43m,\u001b[49m\u001b[43m \u001b[49m\u001b[43m)\u001b[49m\n",
      "File \u001b[0;32m~/micromamba/envs/sc_base_with_r/lib/python3.11/site-packages/infercnvpy/tl/_copykat.py:128\u001b[0m, in \u001b[0;36mcopykat\u001b[0;34m(adata, gene_ids, organism, segmentation_cut, distance, s_name, min_genes_chr, key_added, inplace, layer, n_jobs, norm_cell_names, cell_line, window_size)\u001b[0m\n\u001b[1;32m    125\u001b[0m ro\u001b[38;5;241m.\u001b[39mglobalenv[\u001b[38;5;124m\"\u001b[39m\u001b[38;5;124mwindow_size\u001b[39m\u001b[38;5;124m\"\u001b[39m] \u001b[38;5;241m=\u001b[39m ro\u001b[38;5;241m.\u001b[39mconversion\u001b[38;5;241m.\u001b[39mpy2rpy(window_size)\n\u001b[1;32m    127\u001b[0m logging\u001b[38;5;241m.\u001b[39minfo(\u001b[38;5;124m\"\u001b[39m\u001b[38;5;124mRunning copyKAT\u001b[39m\u001b[38;5;124m\"\u001b[39m)\n\u001b[0;32m--> 128\u001b[0m \u001b[43mro\u001b[49m\u001b[38;5;241;43m.\u001b[39;49m\u001b[43mr\u001b[49m\u001b[43m(\u001b[49m\n\u001b[1;32m    129\u001b[0m \u001b[38;5;250;43m    \u001b[39;49m\u001b[38;5;124;43;03m\"\"\"\u001b[39;49;00m\n\u001b[1;32m    130\u001b[0m \u001b[38;5;124;43;03m    rownames(expr_r) <- gene_names\u001b[39;49;00m\n\u001b[1;32m    131\u001b[0m \u001b[38;5;124;43;03m    colnames(expr_r) <- cell_IDs\u001b[39;49;00m\n\u001b[1;32m    132\u001b[0m \u001b[38;5;124;43;03m    if (organism == \"mouse\"){\u001b[39;49;00m\n\u001b[1;32m    133\u001b[0m \u001b[38;5;124;43;03m        copyKAT_run <- copykat(rawmat = expr_r, id.type = gene_ids, ngene.chr = min_gene_chr, win.size = window_size,\u001b[39;49;00m\n\u001b[1;32m    134\u001b[0m \u001b[38;5;124;43;03m                            KS.cut = segmentation_cut, sam.name = s_name, distance = distance, norm.cell.names = norm_cell_names, cell.line = cell_line,\u001b[39;49;00m\n\u001b[1;32m    135\u001b[0m \u001b[38;5;124;43;03m                            n.cores = n_jobs, output.seg = FALSE, genome = 'mm10')\u001b[39;49;00m\n\u001b[1;32m    136\u001b[0m \u001b[38;5;124;43;03m    } else {\u001b[39;49;00m\n\u001b[1;32m    137\u001b[0m \u001b[38;5;124;43;03m        copyKAT_run <- copykat(rawmat = expr_r, id.type = gene_ids, ngene.chr = min_gene_chr, win.size = window_size,\u001b[39;49;00m\n\u001b[1;32m    138\u001b[0m \u001b[38;5;124;43;03m                            KS.cut = segmentation_cut, sam.name = s_name, distance = distance, norm.cell.names = norm_cell_names, cell.line = cell_line,\u001b[39;49;00m\n\u001b[1;32m    139\u001b[0m \u001b[38;5;124;43;03m                            n.cores = n_jobs, output.seg = FALSE)\u001b[39;49;00m\n\u001b[1;32m    140\u001b[0m \u001b[38;5;124;43;03m    }\u001b[39;49;00m\n\u001b[1;32m    141\u001b[0m \u001b[38;5;124;43;03m    copyKAT_result <- data.frame(copyKAT_run$CNAmat)\u001b[39;49;00m\n\u001b[1;32m    142\u001b[0m \u001b[38;5;124;43;03m    colnames(copyKAT_result) <- str_replace_all(colnames(copyKAT_result), \"\\\\\\\\.\", \"-\")\u001b[39;49;00m\n\u001b[1;32m    143\u001b[0m \u001b[38;5;124;43;03m    copyKAT_pred <- data.frame(copyKAT_run$prediction)\u001b[39;49;00m\n\u001b[1;32m    144\u001b[0m \u001b[38;5;124;43;03m    if(dim(copyKAT_result)[2] != length(cell_IDs)){\u001b[39;49;00m\n\u001b[1;32m    145\u001b[0m \u001b[38;5;124;43;03m        missing_cells <- setdiff(cell_IDs,colnames(copyKAT_result))\u001b[39;49;00m\n\u001b[1;32m    146\u001b[0m \u001b[38;5;124;43;03m        na_mtrx <- data.frame(matrix(ncol=length(missing_cells),nrow=nrow(copyKAT_result)))\u001b[39;49;00m\n\u001b[1;32m    147\u001b[0m \u001b[38;5;124;43;03m        new_colnames <- c(colnames(copyKAT_result),missing_cells)\u001b[39;49;00m\n\u001b[1;32m    148\u001b[0m \u001b[38;5;124;43;03m        copyKAT_result <- cbind(copyKAT_result,na_mtrx)\u001b[39;49;00m\n\u001b[1;32m    149\u001b[0m \u001b[38;5;124;43;03m        colnames(copyKAT_result) <- new_colnames\u001b[39;49;00m\n\u001b[1;32m    150\u001b[0m \u001b[38;5;124;43;03m    }\u001b[39;49;00m\n\u001b[1;32m    151\u001b[0m \u001b[38;5;124;43;03m    \"\"\"\u001b[39;49;00m\n\u001b[1;32m    152\u001b[0m \u001b[43m\u001b[49m\u001b[43m)\u001b[49m\n\u001b[1;32m    154\u001b[0m \u001b[38;5;28;01mwith\u001b[39;00m localconverter(ro\u001b[38;5;241m.\u001b[39mdefault_converter \u001b[38;5;241m+\u001b[39m numpy2ri\u001b[38;5;241m.\u001b[39mconverter \u001b[38;5;241m+\u001b[39m pandas2ri\u001b[38;5;241m.\u001b[39mconverter):\n\u001b[1;32m    155\u001b[0m     copyKAT_result \u001b[38;5;241m=\u001b[39m ro\u001b[38;5;241m.\u001b[39mconversion\u001b[38;5;241m.\u001b[39mrpy2py(ro\u001b[38;5;241m.\u001b[39mglobalenv[\u001b[38;5;124m\"\u001b[39m\u001b[38;5;124mcopyKAT_result\u001b[39m\u001b[38;5;124m\"\u001b[39m])\n",
      "File \u001b[0;32m~/micromamba/envs/sc_base_with_r/lib/python3.11/site-packages/rpy2/robjects/__init__.py:509\u001b[0m, in \u001b[0;36mR.__call__\u001b[0;34m(self, string, invisible, print_r_warnings)\u001b[0m\n\u001b[1;32m    507\u001b[0m     invisible \u001b[38;5;241m=\u001b[39m \u001b[38;5;28mself\u001b[39m\u001b[38;5;241m.\u001b[39m_invisible\n\u001b[1;32m    508\u001b[0m \u001b[38;5;28;01mif\u001b[39;00m invisible:\n\u001b[0;32m--> 509\u001b[0m     res, visible \u001b[38;5;241m=\u001b[39m \u001b[43mrinterface\u001b[49m\u001b[38;5;241;43m.\u001b[39;49m\u001b[43mevalr_expr_with_visible\u001b[49m\u001b[43m(\u001b[49m\u001b[43m   \u001b[49m\u001b[38;5;66;43;03m# type: ignore\u001b[39;49;00m\n\u001b[1;32m    510\u001b[0m \u001b[43m        \u001b[49m\u001b[43mr_expr\u001b[49m\n\u001b[1;32m    511\u001b[0m \u001b[43m    \u001b[49m\u001b[43m)\u001b[49m\n\u001b[1;32m    512\u001b[0m     \u001b[38;5;28;01mif\u001b[39;00m \u001b[38;5;129;01mnot\u001b[39;00m visible[\u001b[38;5;241m0\u001b[39m]:  \u001b[38;5;66;03m# type: ignore\u001b[39;00m\n\u001b[1;32m    513\u001b[0m         res \u001b[38;5;241m=\u001b[39m \u001b[38;5;28;01mNone\u001b[39;00m\n",
      "File \u001b[0;32m~/micromamba/envs/sc_base_with_r/lib/python3.11/site-packages/rpy2/rinterface.py:194\u001b[0m, in \u001b[0;36mevalr_expr_with_visible\u001b[0;34m(expr, envir)\u001b[0m\n\u001b[1;32m    187\u001b[0m r_res \u001b[38;5;241m=\u001b[39m rmemory\u001b[38;5;241m.\u001b[39mprotect(\n\u001b[1;32m    188\u001b[0m         openrlib\u001b[38;5;241m.\u001b[39mrlib\u001b[38;5;241m.\u001b[39mR_tryEval(\n\u001b[1;32m    189\u001b[0m             r_call,\n\u001b[1;32m    190\u001b[0m             envir\u001b[38;5;241m.\u001b[39m__sexp__\u001b[38;5;241m.\u001b[39m_cdata,  \u001b[38;5;66;03m# call context.\u001b[39;00m\n\u001b[1;32m    191\u001b[0m             error_occured)\n\u001b[1;32m    192\u001b[0m )\n\u001b[1;32m    193\u001b[0m \u001b[38;5;28;01mif\u001b[39;00m error_occured[\u001b[38;5;241m0\u001b[39m]:\n\u001b[0;32m--> 194\u001b[0m     \u001b[38;5;28;01mraise\u001b[39;00m embedded\u001b[38;5;241m.\u001b[39mRRuntimeError(_rinterface\u001b[38;5;241m.\u001b[39m_geterrmessage())\n\u001b[1;32m    195\u001b[0m res \u001b[38;5;241m=\u001b[39m conversion\u001b[38;5;241m.\u001b[39m_cdata_to_rinterface(r_res)\n\u001b[1;32m    196\u001b[0m \u001b[38;5;28;01massert\u001b[39;00m \u001b[38;5;28misinstance\u001b[39m(res, ListSexpVector)\n",
      "\u001b[0;31mRRuntimeError\u001b[0m: "
     ]
    }
   ],
   "source": [
    "cnv.tl.copykat(adata, )"
   ]
  },
  {
   "cell_type": "code",
   "execution_count": null,
   "metadata": {},
   "outputs": [],
   "source": []
  }
 ],
 "metadata": {
  "kernelspec": {
   "display_name": "Python 3",
   "language": "python",
   "name": "python3"
  },
  "language_info": {
   "codemirror_mode": {
    "name": "ipython",
    "version": 3
   },
   "file_extension": ".py",
   "mimetype": "text/x-python",
   "name": "python",
   "nbconvert_exporter": "python",
   "pygments_lexer": "ipython3",
   "version": "3.11.11"
  }
 },
 "nbformat": 4,
 "nbformat_minor": 2
}
