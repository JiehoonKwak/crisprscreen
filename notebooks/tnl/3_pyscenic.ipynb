{
 "cells": [
  {
   "cell_type": "code",
   "execution_count": null,
   "metadata": {
    "vscode": {
     "languageId": "plaintext"
    }
   },
   "outputs": [],
   "source": [
    "import os\n",
    "import loompy as lp\n",
    "import numpy as np\n",
    "import pandas as pd\n",
    "import scanpy as sc"
   ]
  },
  {
   "cell_type": "code",
   "execution_count": null,
   "metadata": {
    "vscode": {
     "languageId": "plaintext"
    }
   },
   "outputs": [],
   "source": [
    "def create_loom(adata, path):\n",
    "    row = {\"Gene\": np.array(adata.var_names)}\n",
    "    col = {\"CellID\": np.array(adata.obs_names),\"nGene\": np.array(np.sum(adata.X.transpose()>0 , axis=0)).flatten() ,\"nUMI\": np.array(np.sum(adata.X.transpose() , axis=0)).flatten()}\n",
    "    matrix = adata.X.transpose()\n",
    "    lp.create(path, matrix, row, col)\n",
    "    \n",
    "adata.X = adata.layers['counts']\n",
    "create_loom(adata, '../../output/annotated.loom')"
   ]
  }
 ],
 "metadata": {
  "language_info": {
   "name": "python"
  }
 },
 "nbformat": 4,
 "nbformat_minor": 2
}
