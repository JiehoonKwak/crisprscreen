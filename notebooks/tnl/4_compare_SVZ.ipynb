{
 "cells": [
  {
   "cell_type": "markdown",
   "metadata": {},
   "source": [
    "- malignant from SVZ vs Tumor\n",
    "- DEG\n",
    "- pseudotime\n",
    "- grn"
   ]
  }
 ],
 "metadata": {
  "language_info": {
   "name": "python"
  }
 },
 "nbformat": 4,
 "nbformat_minor": 2
}
