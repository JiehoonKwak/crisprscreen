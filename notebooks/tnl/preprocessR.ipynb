{
 "cells": [
  {
   "cell_type": "markdown",
   "metadata": {
    "vscode": {
     "languageId": "r"
    }
   },
   "source": [
    "Filtering criteria:\n",
    "\n",
    "min.cells = 1000 per study\n",
    "min.gene = 500\n",
    "min.umi = 1000\n",
    "max.MT = 30"
   ]
  },
  {
   "cell_type": "code",
   "execution_count": null,
   "metadata": {
    "vscode": {
     "languageId": "r"
    }
   },
   "outputs": [],
   "source": [
    "library(Seurat)\n",
    "library(DoubletFinder)\n",
    "library(HGNChelper)\n",
    "library(tidyverse)\n",
    "library(here)\n",
    "source(here(\"notebooks/helper.R\"))"
   ]
  },
  {
   "cell_type": "code",
   "execution_count": 10,
   "metadata": {
    "vscode": {
     "languageId": "r"
    }
   },
   "outputs": [],
   "source": [
    "files <- list.files(here(\"data/tnl\"), full.names = TRUE, recursive = TRUE, pattern = 'filtered_feature_bc_matrix', ignore.case = TRUE)\n",
    "names(files) <- str_extract(files, \"(?<=/tnl/)[^/]+\")"
   ]
  },
  {
   "cell_type": "code",
   "execution_count": 18,
   "metadata": {
    "vscode": {
     "languageId": "r"
    }
   },
   "outputs": [],
   "source": [
    "objs <- list()\n",
    "for (i in 1:length(files)){\n",
    "    mat <- Read10X_h5(files[[i]])\n",
    "    obj <- CreateSeuratObject(counts = mat, min.features = 500, min.cells = 5, project = names(files[i]))\n",
    "    objs <- append(objs, list(obj))\n",
    "}"
   ]
  },
  {
   "cell_type": "code",
   "execution_count": 22,
   "metadata": {
    "vscode": {
     "languageId": "r"
    }
   },
   "outputs": [],
   "source": [
    "for(i in 1:length(objs)){\n",
    "    objs[[i]][[\"percent.MT\"]]  <- PercentageFeatureSet(objs[[i]], pattern = \"^MT-\") \n",
    "    objs[[i]] <- subset(objs[[i]], subset = percent.MT < 30 & nCount_RNA > 1000)\n",
    "}"
   ]
  },
  {
   "cell_type": "code",
   "execution_count": 23,
   "metadata": {
    "vscode": {
     "languageId": "r"
    }
   },
   "outputs": [
    {
     "name": "stderr",
     "output_type": "stream",
     "text": [
      "Normalizing layer: counts\n",
      "\n",
      "Centering and scaling data matrix\n",
      "\n",
      "Warning message:\n",
      "“Keys should be one or more alphanumeric characters followed by an underscore, setting key from pca_RNA_ to pcaRNA_”\n",
      "Warning message:\n",
      "“The following arguments are not used: force.recalc”\n",
      "Warning message:\n",
      "“The following arguments are not used: force.recalc”\n",
      "Warning message:\n",
      "“The default method for RunUMAP has changed from calling Python UMAP via reticulate to the R-native UWOT using the cosine metric\n",
      "To use Python UMAP via reticulate, set umap.method to 'umap-learn' and metric to 'correlation'\n",
      "This message will be shown once per session”\n",
      "Normalizing layer: counts\n",
      "\n",
      "Centering and scaling data matrix\n",
      "\n",
      "Warning message:\n",
      "“Keys should be one or more alphanumeric characters followed by an underscore, setting key from pca_RNA_ to pcaRNA_”\n",
      "Warning message:\n",
      "“The following arguments are not used: force.recalc”\n",
      "Warning message:\n",
      "“The following arguments are not used: force.recalc”\n",
      "Normalizing layer: counts\n",
      "\n",
      "Centering and scaling data matrix\n",
      "\n",
      "Warning message:\n",
      "“Keys should be one or more alphanumeric characters followed by an underscore, setting key from pca_RNA_ to pcaRNA_”\n",
      "Warning message:\n",
      "“The following arguments are not used: force.recalc”\n",
      "Warning message:\n",
      "“The following arguments are not used: force.recalc”\n",
      "Normalizing layer: counts\n",
      "\n",
      "Centering and scaling data matrix\n",
      "\n",
      "Warning message:\n",
      "“Keys should be one or more alphanumeric characters followed by an underscore, setting key from pca_RNA_ to pcaRNA_”\n",
      "Warning message:\n",
      "“The following arguments are not used: force.recalc”\n",
      "Warning message:\n",
      "“The following arguments are not used: force.recalc”\n",
      "Normalizing layer: counts\n",
      "\n",
      "Centering and scaling data matrix\n",
      "\n",
      "Warning message:\n",
      "“Keys should be one or more alphanumeric characters followed by an underscore, setting key from pca_RNA_ to pcaRNA_”\n",
      "Warning message:\n",
      "“The following arguments are not used: force.recalc”\n",
      "Warning message:\n",
      "“The following arguments are not used: force.recalc”\n",
      "Normalizing layer: counts\n",
      "\n",
      "Centering and scaling data matrix\n",
      "\n",
      "Warning message:\n",
      "“Keys should be one or more alphanumeric characters followed by an underscore, setting key from pca_RNA_ to pcaRNA_”\n",
      "Warning message:\n",
      "“The following arguments are not used: force.recalc”\n",
      "Warning message:\n",
      "“The following arguments are not used: force.recalc”\n",
      "Normalizing layer: counts\n",
      "\n",
      "Centering and scaling data matrix\n",
      "\n",
      "Warning message:\n",
      "“Keys should be one or more alphanumeric characters followed by an underscore, setting key from pca_RNA_ to pcaRNA_”\n",
      "Warning message:\n",
      "“The following arguments are not used: force.recalc”\n",
      "Warning message:\n",
      "“The following arguments are not used: force.recalc”\n",
      "Normalizing layer: counts\n",
      "\n",
      "Centering and scaling data matrix\n",
      "\n",
      "Warning message:\n",
      "“Keys should be one or more alphanumeric characters followed by an underscore, setting key from pca_RNA_ to pcaRNA_”\n",
      "Warning message:\n",
      "“The following arguments are not used: force.recalc”\n",
      "Warning message:\n",
      "“The following arguments are not used: force.recalc”\n",
      "Normalizing layer: counts\n",
      "\n",
      "Centering and scaling data matrix\n",
      "\n",
      "Warning message:\n",
      "“Keys should be one or more alphanumeric characters followed by an underscore, setting key from pca_RNA_ to pcaRNA_”\n",
      "Warning message:\n",
      "“The following arguments are not used: force.recalc”\n",
      "Warning message:\n",
      "“The following arguments are not used: force.recalc”\n",
      "Normalizing layer: counts\n",
      "\n",
      "Centering and scaling data matrix\n",
      "\n",
      "Warning message:\n",
      "“Keys should be one or more alphanumeric characters followed by an underscore, setting key from pca_RNA_ to pcaRNA_”\n",
      "Warning message:\n",
      "“The following arguments are not used: force.recalc”\n",
      "Warning message:\n",
      "“The following arguments are not used: force.recalc”\n",
      "Normalizing layer: counts\n",
      "\n",
      "Centering and scaling data matrix\n",
      "\n",
      "Warning message:\n",
      "“Keys should be one or more alphanumeric characters followed by an underscore, setting key from pca_RNA_ to pcaRNA_”\n",
      "Warning message:\n",
      "“The following arguments are not used: force.recalc”\n",
      "Warning message:\n",
      "“The following arguments are not used: force.recalc”\n",
      "Normalizing layer: counts\n",
      "\n",
      "Centering and scaling data matrix\n",
      "\n",
      "Warning message:\n",
      "“Keys should be one or more alphanumeric characters followed by an underscore, setting key from pca_RNA_ to pcaRNA_”\n",
      "Warning message:\n",
      "“The following arguments are not used: force.recalc”\n",
      "Warning message:\n",
      "“The following arguments are not used: force.recalc”\n"
     ]
    }
   ],
   "source": [
    "objs <- lapply(objs, seuPreProcess)"
   ]
  },
  {
   "cell_type": "code",
   "execution_count": null,
   "metadata": {
    "vscode": {
     "languageId": "r"
    }
   },
   "outputs": [],
   "source": [
    "saveRDS(objs, here(\"data/tnl/tnl.rds\"))"
   ]
  },
  {
   "cell_type": "code",
   "execution_count": null,
   "metadata": {
    "vscode": {
     "languageId": "r"
    }
   },
   "outputs": [],
   "source": [
    "bcmvn <- list()\n",
    "pK <- list()\n",
    "homotypic.prop <- list()\n",
    "nExp_poi <- list()\n",
    "nExp_poi.adj <- list()\n",
    "\n",
    "# Estimated Doublet Rate for each dataset\n",
    "edr <- estimateDoubletRate.DWM(seur.list = objs)/100 #use your own known EDR here\n",
    "\n",
    "for(i in 1:length(objs)){\n",
    "  cat(' ############################################\\n',\n",
    "      '### DoubletFinder for dataset number ', i, '###\\n',\n",
    "      '############################################\\n')\n",
    "  \n",
    "  ## pK Identification (no ground-truth)\n",
    "  bcmvn[[i]]<- paramSweep_v3(\n",
    "    seu=objs[[i]],\n",
    "    PCs = 1:objs[[i]]@reductions\n",
    "n.pcs.used, \n",
    "    num.cores = 8\n",
    "  ) %>% summarizeSweep(\n",
    "    GT = FALSE\n",
    "  ) %>% find.pK() \n",
    "  \n",
    "  # Pull out max of bcmvn\n",
    "  pK[[i]] <- as.numeric(as.character(bcmvn[[i]]\n",
    "BCmetric==max(bcmvn[[i]]$BCmetric)])) # ugly, but functional...\n",
    "  \n",
    "  ## Homotypic Doublet Proportion Estimate\n",
    "  homotypic.prop[[i]] <- modelHomotypic(objs[[i]]$seurat_clusters) \n",
    "  \n",
    "  nExp_poi[[i]] <- round(edr[[i]]*length(colnames(objs[[i]])))  \n",
    "  nExp_poi.adj[[i]] <- round(nExp_poi[[i]]*(1-homotypic.prop[[i]]))\n",
    "}"
   ]
  },
  {
   "cell_type": "code",
   "execution_count": null,
   "metadata": {
    "vscode": {
     "languageId": "r"
    }
   },
   "outputs": [],
   "source": [
    "# Run DoubletFinder\n",
    "for(i in 1:length(objs)){\n",
    "  objs[[i]] <- \n",
    "    doubletFinder_V3.DWM_v2( # just changed it so the output metadata column name is customizable\n",
    "      seu=objs[[i]], \n",
    "      PCs = 1:objs[[i]]@reductions\n",
    "n.pcs.used, \n",
    "      pN = 0.25, #default value\n",
    "      pK= pK[[i]], \n",
    "      nExp = nExp_poi.adj[[i]],  \n",
    "      reuse.pANN = F, \n",
    "      classification.name='DF.individual', \n",
    "      pANN.name='DF.pANN.individual'\n",
    "    )\n",
    "}"
   ]
  },
  {
   "cell_type": "code",
   "execution_count": null,
   "metadata": {
    "vscode": {
     "languageId": "r"
    }
   },
   "outputs": [],
   "source": [
    "tnl <- merge(objs[[1]], y = unlist(objs[2:length(objs)]), add.cell.ids = labels, project = \"tnl\", merge.data = T)"
   ]
  },
  {
   "cell_type": "code",
   "execution_count": null,
   "metadata": {
    "vscode": {
     "languageId": "r"
    }
   },
   "outputs": [],
   "source": [
    "tnl <- subset(tnl, subset = DF.individual == 'Singlet')"
   ]
  },
  {
   "cell_type": "code",
   "execution_count": null,
   "metadata": {
    "vscode": {
     "languageId": "r"
    }
   },
   "outputs": [],
   "source": [
    "gene.names <- checkGeneSymbols(rownames(Wang2020_matrix), unmapped.as.na=FALSE)\n",
    "rownames(Wang2020_matrix) <- make.unique(gene.names$Suggested.Symbol)"
   ]
  }
 ],
 "metadata": {
  "kernelspec": {
   "display_name": "R",
   "language": "R",
   "name": "ir"
  },
  "language_info": {
   "codemirror_mode": "r",
   "file_extension": ".r",
   "mimetype": "text/x-r-source",
   "name": "R",
   "pygments_lexer": "r",
   "version": "4.4.2"
  }
 },
 "nbformat": 4,
 "nbformat_minor": 2
}
