{
 "cells": [
  {
   "cell_type": "code",
   "execution_count": 1,
   "metadata": {
    "vscode": {
     "languageId": "r"
    }
   },
   "outputs": [
    {
     "name": "stderr",
     "output_type": "stream",
     "text": [
      "\n",
      "                                                   / |\n",
      "                                                 /    \\\n",
      "            .                                  /      |.\n",
      "            \\\\\\                              /        |.\n",
      "              \\\\\\                          /           `|.\n",
      "                \\\\\\                      /              |.\n",
      "                  \\                    /                |\\\n",
      "                  \\\\#####\\           /                  ||\n",
      "                ==###########>      /                   ||\n",
      "                 \\\\##==......\\    /                     ||\n",
      "            ______ =       =|__ /__                     ||      \\\\\\\n",
      "        ,--' ,----`-,__ ___/'  --,-`-===================##========>\n",
      "       \\               '        ##_______ _____ ,--,__,=##,__   ///\n",
      "        ,    __==    ___,-,__,--'#'  ==='      `-'    | ##,-/\n",
      "        -,____,---'       \\\\####\\\\________________,--\\\\_##,/\n",
      "           ___      .______        ______  __    __  .______      \n",
      "          /   \\     |   _  \\      /      ||  |  |  | |   _  \\     \n",
      "         /  ^  \\    |  |_)  |    |  ,----'|  |__|  | |  |_)  |    \n",
      "        /  /_\\  \\   |      /     |  |     |   __   | |      /     \n",
      "       /  _____  \\  |  |\\  \\\\___ |  `----.|  |  |  | |  |\\  \\\\___.\n",
      "      /__/     \\__\\ | _| `._____| \\______||__|  |__| | _| `._____|\n",
      "    \n",
      "\n",
      "ArchR : Version 1.0.2\n",
      "For more information see our website : www.ArchRProject.com\n",
      "If you encounter a bug please report : https://github.com/GreenleafLab/ArchR/issues\n",
      "\n",
      "Loading Required Packages...\n",
      "\n",
      "\tLoading Package : grid v4.3.3\n",
      "\n",
      "\tLoading Package : gridExtra v2.3\n",
      "\n",
      "\tLoading Package : gtools v3.9.5\n",
      "\n",
      "\tLoading Package : gtable v0.3.6\n",
      "\n",
      "\tLoading Package : ggplot2 v3.5.1\n",
      "\n",
      "\tLoading Package : magrittr v2.0.3\n",
      "\n",
      "\tLoading Package : plyr v1.8.9\n",
      "\n",
      "\tLoading Package : stringr v1.5.1\n",
      "\n",
      "\tLoading Package : data.table v1.16.4\n",
      "\n",
      "\tLoading Package : matrixStats v1.4.1\n",
      "\n",
      "\tLoading Package : S4Vectors v0.40.2\n",
      "\n",
      "\tLoading Package : GenomicRanges v1.54.1\n",
      "\n",
      "\tLoading Package : BiocGenerics v0.48.1\n",
      "\n",
      "\tLoading Package : Matrix v1.6.5\n",
      "\n",
      "\tLoading Package : Rcpp v1.0.13.1\n",
      "\n",
      "\tLoading Package : SummarizedExperiment v1.32.0\n",
      "\n",
      "\tLoading Package : rhdf5 v2.46.1\n",
      "\n"
     ]
    }
   ],
   "source": [
    "library(ArchR)\n"
   ]
  },
  {
   "cell_type": "code",
   "execution_count": 2,
   "metadata": {
    "vscode": {
     "languageId": "r"
    }
   },
   "outputs": [
    {
     "name": "stderr",
     "output_type": "stream",
     "text": [
      "Setting default number of Parallel threads to 10.\n",
      "\n"
     ]
    }
   ],
   "source": [
    "addArchRThreads(threads = 10) \n"
   ]
  },
  {
   "cell_type": "code",
   "execution_count": 3,
   "metadata": {
    "vscode": {
     "languageId": "r"
    }
   },
   "outputs": [
    {
     "name": "stderr",
     "output_type": "stream",
     "text": [
      "Downloading files to HemeFragments...\n",
      "\n"
     ]
    },
    {
     "data": {
      "text/html": [
       "<style>\n",
       ".dl-inline {width: auto; margin:0; padding: 0}\n",
       ".dl-inline>dt, .dl-inline>dd {float: none; width: auto; display: inline-block}\n",
       ".dl-inline>dt::after {content: \":\\0020\"; padding-right: .5ex}\n",
       ".dl-inline>dt:not(:first-of-type) {padding-left: .5ex}\n",
       "</style><dl class=dl-inline><dt>scATAC_BMMC_R1</dt><dd>'HemeFragments/scATAC_BMMC_R1.fragments.tsv.gz'</dd><dt>scATAC_CD34_BMMC_R1</dt><dd>'HemeFragments/scATAC_CD34_BMMC_R1.fragments.tsv.gz'</dd><dt>scATAC_PBMC_R1</dt><dd>'HemeFragments/scATAC_PBMC_R1.fragments.tsv.gz'</dd></dl>\n"
      ],
      "text/latex": [
       "\\begin{description*}\n",
       "\\item[scATAC\\textbackslash{}\\_BMMC\\textbackslash{}\\_R1] 'HemeFragments/scATAC\\_BMMC\\_R1.fragments.tsv.gz'\n",
       "\\item[scATAC\\textbackslash{}\\_CD34\\textbackslash{}\\_BMMC\\textbackslash{}\\_R1] 'HemeFragments/scATAC\\_CD34\\_BMMC\\_R1.fragments.tsv.gz'\n",
       "\\item[scATAC\\textbackslash{}\\_PBMC\\textbackslash{}\\_R1] 'HemeFragments/scATAC\\_PBMC\\_R1.fragments.tsv.gz'\n",
       "\\end{description*}\n"
      ],
      "text/markdown": [
       "scATAC_BMMC_R1\n",
       ":   'HemeFragments/scATAC_BMMC_R1.fragments.tsv.gz'scATAC_CD34_BMMC_R1\n",
       ":   'HemeFragments/scATAC_CD34_BMMC_R1.fragments.tsv.gz'scATAC_PBMC_R1\n",
       ":   'HemeFragments/scATAC_PBMC_R1.fragments.tsv.gz'\n",
       "\n"
      ],
      "text/plain": [
       "                                      scATAC_BMMC_R1                                  scATAC_CD34_BMMC_R1 \n",
       "     \"HemeFragments/scATAC_BMMC_R1.fragments.tsv.gz\" \"HemeFragments/scATAC_CD34_BMMC_R1.fragments.tsv.gz\" \n",
       "                                      scATAC_PBMC_R1 \n",
       "     \"HemeFragments/scATAC_PBMC_R1.fragments.tsv.gz\" "
      ]
     },
     "metadata": {},
     "output_type": "display_data"
    }
   ],
   "source": [
    "inputFiles <- getTutorialData(\"Hematopoiesis\")\n",
    "inputFiles"
   ]
  },
  {
   "cell_type": "code",
   "execution_count": null,
   "metadata": {
    "vscode": {
     "languageId": "r"
    }
   },
   "outputs": [
    {
     "name": "stderr",
     "output_type": "stream",
     "text": [
      "BSgenome for hg19 not installed! Now installing by the following:\n",
      "\tBiocManager::install(\"BSgenome.Hsapiens.UCSC.hg19\")\n",
      "\n",
      "'getOption(\"repos\")' replaces Bioconductor standard repositories, see 'help(\"repositories\", package = \"BiocManager\")'\n",
      "for details.\n",
      "Replacement repositories:\n",
      "    CRAN: https://cran.r-project.org\n",
      "\n",
      "Bioconductor version 3.18 (BiocManager 1.30.25), R 4.3.3 (2024-02-29)\n",
      "\n",
      "Installing package(s) 'BSgenome.Hsapiens.UCSC.hg19'\n",
      "\n"
     ]
    }
   ],
   "source": [
    "addArchRGenome(\"hg19\")\n"
   ]
  }
 ],
 "metadata": {
  "kernelspec": {
   "display_name": "R",
   "language": "R",
   "name": "ir"
  },
  "language_info": {
   "codemirror_mode": "r",
   "file_extension": ".r",
   "mimetype": "text/x-r-source",
   "name": "R",
   "pygments_lexer": "r",
   "version": "4.3.3"
  }
 },
 "nbformat": 4,
 "nbformat_minor": 2
}
