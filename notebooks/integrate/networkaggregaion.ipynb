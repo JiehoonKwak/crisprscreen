{
 "cells": [
  {
   "cell_type": "markdown",
   "metadata": {},
   "source": [
    "# Consensus network aggregation\n",
    "- after concat, filter nonsignificant edges with p-values and appropriate threshold of edges ( i filtered with p<0.05 initailly, very roughly)\n",
    "- count frequency\n",
    "- meta-analysis using `metap` in R"
   ]
  },
  {
   "cell_type": "code",
   "execution_count": null,
   "metadata": {
    "vscode": {
     "languageId": "plaintext"
    }
   },
   "outputs": [],
   "source": []
  }
 ],
 "metadata": {
  "language_info": {
   "name": "python"
  }
 },
 "nbformat": 4,
 "nbformat_minor": 2
}
