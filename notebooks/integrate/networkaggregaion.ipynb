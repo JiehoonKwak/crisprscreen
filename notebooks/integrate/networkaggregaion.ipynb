{
 "cells": [
  {
   "cell_type": "markdown",
   "metadata": {},
   "source": [
    "# Consensus network aggregation\n",
    "- after concat, filter nonsignificant edges with p-values and appropriate threshold of edges ( i filtered with p<0.05 initailly, very roughly)\n",
    "- count frequency\n",
    "- meta-analysis using `metap` in R"
   ]
  },
  {
   "cell_type": "code",
   "execution_count": 1,
   "metadata": {
    "vscode": {
     "languageId": "r"
    }
   },
   "outputs": [
    {
     "name": "stderr",
     "output_type": "stream",
     "text": [
      "── \u001b[1mAttaching core tidyverse packages\u001b[22m ──────────────────────────────────────────────────────────────── tidyverse 2.0.0 ──\n",
      "\u001b[32m✔\u001b[39m \u001b[34mdplyr    \u001b[39m 1.1.4     \u001b[32m✔\u001b[39m \u001b[34mreadr    \u001b[39m 2.1.5\n",
      "\u001b[32m✔\u001b[39m \u001b[34mforcats  \u001b[39m 1.0.0     \u001b[32m✔\u001b[39m \u001b[34mstringr  \u001b[39m 1.5.1\n",
      "\u001b[32m✔\u001b[39m \u001b[34mggplot2  \u001b[39m 3.5.1     \u001b[32m✔\u001b[39m \u001b[34mtibble   \u001b[39m 3.2.1\n",
      "\u001b[32m✔\u001b[39m \u001b[34mlubridate\u001b[39m 1.9.4     \u001b[32m✔\u001b[39m \u001b[34mtidyr    \u001b[39m 1.3.1\n",
      "\u001b[32m✔\u001b[39m \u001b[34mpurrr    \u001b[39m 1.0.2     \n",
      "── \u001b[1mConflicts\u001b[22m ────────────────────────────────────────────────────────────────────────────────── tidyverse_conflicts() ──\n",
      "\u001b[31m✖\u001b[39m \u001b[34mdplyr\u001b[39m::\u001b[32mfilter()\u001b[39m masks \u001b[34mstats\u001b[39m::filter()\n",
      "\u001b[31m✖\u001b[39m \u001b[34mdplyr\u001b[39m::\u001b[32mlag()\u001b[39m    masks \u001b[34mstats\u001b[39m::lag()\n",
      "\u001b[36mℹ\u001b[39m Use the conflicted package (\u001b[3m\u001b[34m<http://conflicted.r-lib.org/>\u001b[39m\u001b[23m) to force all conflicts to become errors\n",
      "\n",
      "Attaching package: ‘janitor’\n",
      "\n",
      "\n",
      "The following objects are masked from ‘package:stats’:\n",
      "\n",
      "    chisq.test, fisher.test\n",
      "\n",
      "\n",
      "here() starts at /home/jiehoonk/crisprscreen\n",
      "\n",
      "\n",
      "Attaching package: ‘igraph’\n",
      "\n",
      "\n",
      "The following objects are masked from ‘package:lubridate’:\n",
      "\n",
      "    %--%, union\n",
      "\n",
      "\n",
      "The following objects are masked from ‘package:dplyr’:\n",
      "\n",
      "    as_data_frame, groups, union\n",
      "\n",
      "\n",
      "The following objects are masked from ‘package:purrr’:\n",
      "\n",
      "    compose, simplify\n",
      "\n",
      "\n",
      "The following object is masked from ‘package:tidyr’:\n",
      "\n",
      "    crossing\n",
      "\n",
      "\n",
      "The following object is masked from ‘package:tibble’:\n",
      "\n",
      "    as_data_frame\n",
      "\n",
      "\n",
      "The following objects are masked from ‘package:stats’:\n",
      "\n",
      "    decompose, spectrum\n",
      "\n",
      "\n",
      "The following object is masked from ‘package:base’:\n",
      "\n",
      "    union\n",
      "\n",
      "\n"
     ]
    }
   ],
   "source": [
    "library(tidyverse)\n",
    "library(janitor)\n",
    "library(here)\n",
    "library(robustbase)\n",
    "library(metap)\n",
    "library(igraph)"
   ]
  },
  {
   "cell_type": "code",
   "execution_count": 25,
   "metadata": {
    "vscode": {
     "languageId": "r"
    }
   },
   "outputs": [],
   "source": [
    "files <- list.files(here(\"tmp/celloracle\"), pattern = \"*grn.csv$\")\n",
    "grns <- list()\n",
    "\n",
    "for (file in files) {\n",
    "  grn <- read_csv(here(\"tmp/celloracle\", file),\n",
    "                  col_types = cols(source = col_character(), target = col_character(), doner_id = col_character(), .default = col_double())) \n",
    "  if (nrow(grn) > 0){\n",
    "    grns <- append(grns, list(grn))\n",
    "  }\n",
    "}"
   ]
  },
  {
   "cell_type": "code",
   "execution_count": 26,
   "metadata": {
    "vscode": {
     "languageId": "r"
    }
   },
   "outputs": [
    {
     "data": {
      "text/html": [
       "215"
      ],
      "text/latex": [
       "215"
      ],
      "text/markdown": [
       "215"
      ],
      "text/plain": [
       "[1] 215"
      ]
     },
     "metadata": {},
     "output_type": "display_data"
    }
   ],
   "source": [
    "length(files)"
   ]
  },
  {
   "cell_type": "code",
   "execution_count": 27,
   "metadata": {
    "vscode": {
     "languageId": "r"
    }
   },
   "outputs": [],
   "source": [
    "grn <- bind_rows(grns) %>% \n",
    "  clean_names() %>% \n",
    "  mutate(doner_id = as.factor(doner_id))"
   ]
  },
  {
   "cell_type": "code",
   "execution_count": 28,
   "metadata": {
    "vscode": {
     "languageId": "r"
    }
   },
   "outputs": [
    {
     "data": {
      "text/html": [
       "210"
      ],
      "text/latex": [
       "210"
      ],
      "text/markdown": [
       "210"
      ],
      "text/plain": [
       "[1] 210"
      ]
     },
     "metadata": {},
     "output_type": "display_data"
    }
   ],
   "source": [
    "N <- length(unique(grn$doner_id))\n",
    "N"
   ]
  },
  {
   "cell_type": "markdown",
   "metadata": {},
   "source": [
    "# 1. EDA"
   ]
  },
  {
   "cell_type": "code",
   "execution_count": 29,
   "metadata": {
    "vscode": {
     "languageId": "r"
    }
   },
   "outputs": [
    {
     "name": "stderr",
     "output_type": "stream",
     "text": [
      "\u001b[1m\u001b[22m`stat_bin()` using `bins = 30`. Pick better value with `binwidth`.\n",
      "Warning message:\n",
      "“\u001b[1m\u001b[22mRemoved 208 rows containing non-finite outside the scale range (`stat_bin()`).”\n"
     ]
    },
    {
     "data": {
      "image/png": "[encoded data removed]",
      "text/plain": [
       "plot without title"
      ]
     },
     "metadata": {
      "image/png": {
       "height": 420,
       "width": 420
      }
     },
     "output_type": "display_data"
    }
   ],
   "source": [
    "ggplot(grn, aes(x = logp)) + \n",
    "    geom_histogram() + \n",
    "    geom_vline(xintercept = -log10(0.001), col = \"red\") + \n",
    "    theme_minimal()"
   ]
  },
  {
   "cell_type": "code",
   "execution_count": 30,
   "metadata": {
    "vscode": {
     "languageId": "r"
    }
   },
   "outputs": [
    {
     "data": {
      "text/html": [
       "<table class=\"dataframe\">\n",
       "<caption>A tibble: 6 × 4</caption>\n",
       "<thead>\n",
       "\t<tr><th scope=col>doner_id</th><th scope=col>n</th><th scope=col>n_cells</th><th scope=col>n_tumor_cells</th></tr>\n",
       "\t<tr><th scope=col>&lt;fct&gt;</th><th scope=col>&lt;int&gt;</th><th scope=col>&lt;dbl&gt;</th><th scope=col>&lt;dbl&gt;</th></tr>\n",
       "</thead>\n",
       "<tbody>\n",
       "\t<tr><td>C3N-03184</td><td>56038</td><td>22695</td><td>21875</td></tr>\n",
       "\t<tr><td>ndGBM-01 </td><td>69238</td><td>26803</td><td>19714</td></tr>\n",
       "\t<tr><td>C3N-01816</td><td>44340</td><td>29634</td><td>16391</td></tr>\n",
       "\t<tr><td>C3N-01798</td><td>43326</td><td>23474</td><td>14993</td></tr>\n",
       "\t<tr><td>C3L-02705</td><td>45934</td><td>20415</td><td>14475</td></tr>\n",
       "\t<tr><td>C3N-02188</td><td>41178</td><td>25685</td><td>14400</td></tr>\n",
       "</tbody>\n",
       "</table>\n"
      ],
      "text/latex": [
       "A tibble: 6 × 4\n",
       "\\begin{tabular}{llll}\n",
       " doner\\_id & n & n\\_cells & n\\_tumor\\_cells\\\\\n",
       " <fct> & <int> & <dbl> & <dbl>\\\\\n",
       "\\hline\n",
       "\t C3N-03184 & 56038 & 22695 & 21875\\\\\n",
       "\t ndGBM-01  & 69238 & 26803 & 19714\\\\\n",
       "\t C3N-01816 & 44340 & 29634 & 16391\\\\\n",
       "\t C3N-01798 & 43326 & 23474 & 14993\\\\\n",
       "\t C3L-02705 & 45934 & 20415 & 14475\\\\\n",
       "\t C3N-02188 & 41178 & 25685 & 14400\\\\\n",
       "\\end{tabular}\n"
      ],
      "text/markdown": [
       "\n",
       "A tibble: 6 × 4\n",
       "\n",
       "| doner_id &lt;fct&gt; | n &lt;int&gt; | n_cells &lt;dbl&gt; | n_tumor_cells &lt;dbl&gt; |\n",
       "|---|---|---|---|\n",
       "| C3N-03184 | 56038 | 22695 | 21875 |\n",
       "| ndGBM-01  | 69238 | 26803 | 19714 |\n",
       "| C3N-01816 | 44340 | 29634 | 16391 |\n",
       "| C3N-01798 | 43326 | 23474 | 14993 |\n",
       "| C3L-02705 | 45934 | 20415 | 14475 |\n",
       "| C3N-02188 | 41178 | 25685 | 14400 |\n",
       "\n"
      ],
      "text/plain": [
       "  doner_id  n     n_cells n_tumor_cells\n",
       "1 C3N-03184 56038 22695   21875        \n",
       "2 ndGBM-01  69238 26803   19714        \n",
       "3 C3N-01816 44340 29634   16391        \n",
       "4 C3N-01798 43326 23474   14993        \n",
       "5 C3L-02705 45934 20415   14475        \n",
       "6 C3N-02188 41178 25685   14400        "
      ]
     },
     "metadata": {},
     "output_type": "display_data"
    }
   ],
   "source": [
    "grn %>% \n",
    "    group_by(doner_id) %>% \n",
    "    summarise(\n",
    "        n = n(),\n",
    "        n_cells = first(n_cells),\n",
    "        n_tumor_cells = first(n_tumor_cells)\n",
    "    ) %>% \n",
    "    arrange(desc(n_tumor_cells)) %>% head()"
   ]
  },
  {
   "cell_type": "code",
   "execution_count": 31,
   "metadata": {
    "vscode": {
     "languageId": "r"
    }
   },
   "outputs": [
    {
     "name": "stderr",
     "output_type": "stream",
     "text": [
      "\u001b[1m\u001b[22m`stat_bin()` using `bins = 30`. Pick better value with `binwidth`.\n"
     ]
    },
    {
     "data": {
      "image/png": "[encoded data removed]",
      "text/plain": [
       "plot without title"
      ]
     },
     "metadata": {
      "image/png": {
       "height": 420,
       "width": 420
      }
     },
     "output_type": "display_data"
    }
   ],
   "source": [
    "grn %>% \n",
    "    group_by(doner_id) %>% \n",
    "    summarise(\n",
    "        n = n(),\n",
    "        n_cells = first(n_cells),\n",
    "        n_tumor_cells = first(n_tumor_cells)\n",
    "    ) %>% \n",
    "    ggplot(aes(x = n_tumor_cells)) +\n",
    "    geom_histogram() +\n",
    "    geom_vline(xintercept = 100, col = \"red\") +\n",
    "    theme_minimal()"
   ]
  },
  {
   "cell_type": "markdown",
   "metadata": {},
   "source": [
    "# 2. Filter GRN\n",
    "- weighted mean of edge coefficients : 0.5\n",
    "## Basic\n",
    "- tumor proportion > 0.3 (arbitrary), n_tumor_cells >= 50 (arbitrary)\n",
    "- filter with p-value 0.001\n",
    "  - do not filter with direction consistency, because it would help when calculating weighted mean\n",
    "## each TF-gene pair\n",
    "- n_samples >= N * 0.05 (5%)\n",
    "- direction_consistency >= 0.8 (arbitrary)\n",
    "## Final edge filter\n",
    "- adjusted p-value (BH) < 0.05\n",
    "- edge coefficient ?"
   ]
  },
  {
   "cell_type": "code",
   "execution_count": 100,
   "metadata": {
    "vscode": {
     "languageId": "r"
    }
   },
   "outputs": [],
   "source": [
    "robust_weighted_mean <- function(x, w) {\n",
    "  w_threshold <- quantile(w, 0.8) # do avoid large dataset distorting the dataset\n",
    "  w_adjusted <- pmin(w, w_threshold)\n",
    "  \n",
    "  w_normalized <- w_adjusted / sum(w_adjusted)\n",
    "  sum(x * w_normalized)\n",
    "}\n",
    "\n",
    "# filter\n",
    "filtered_grn <- grn %>%\n",
    "  mutate(\n",
    "    tumor_proportion = n_tumor_cells / n_cells\n",
    "  ) %>%\n",
    "  filter(\n",
    "    p < 0.001,\n",
    "    tumor_proportion >= 0.3,\n",
    "    n_tumor_cells >= 50\n",
    "  )"
   ]
  },
  {
   "cell_type": "code",
   "execution_count": 101,
   "metadata": {
    "vscode": {
     "languageId": "r"
    }
   },
   "outputs": [],
   "source": [
    "# check direction consistency\n",
    "sign_summary <- filtered_grn %>%\n",
    "  group_by(source, target) %>%\n",
    "  summarise(\n",
    "    n_samples  = n_distinct(doner_id),\n",
    "    n_positive = sum(coef_mean > 0),\n",
    "    n_negative = sum(coef_mean < 0),\n",
    "    .groups    = \"drop\"\n",
    "  ) %>%\n",
    "  mutate(\n",
    "    direction_consistency = abs(n_positive - n_negative) / n_samples,\n",
    "    dominant_sign         = if_else(n_positive >= n_negative, \"positive\", \"negative\")\n",
    "  ) %>%\n",
    "  filter(\n",
    "    n_samples >= N * 0.1,\n",
    "    direction_consistency >= 0.8\n",
    "  )"
   ]
  },
  {
   "cell_type": "code",
   "execution_count": 102,
   "metadata": {
    "vscode": {
     "languageId": "r"
    }
   },
   "outputs": [],
   "source": [
    "# filter according to direction\n",
    "# filtered_sign <- filtered_grn %>%\n",
    "#   inner_join(sign_summary, by = c(\"source\", \"target\")) %>%\n",
    "#   filter(\n",
    "#     (dominant_sign == \"positive\" & coef_mean > 0) |\n",
    "#     (dominant_sign == \"negative\" & coef_mean < 0)\n",
    "#  )\n",
    "\n",
    "\n",
    "filtered_sign <- filtered_grn %>%\n",
    "  inner_join(sign_summary, by = c(\"source\", \"target\"))"
   ]
  },
  {
   "cell_type": "code",
   "execution_count": 103,
   "metadata": {
    "vscode": {
     "languageId": "r"
    }
   },
   "outputs": [],
   "source": [
    "# 5) Aggregate per edge: robust weighted mean effect size & Fisher’s combined p\n",
    "final_summary <- filtered_sign %>%\n",
    "  group_by(source, target, dominant_sign, n_samples, direction_consistency) %>%\n",
    "  summarise(\n",
    "    combined_coef   = robust_weighted_mean(coef_mean, n_tumor_cells),\n",
    "    combined_p      = sumlog(p)$p,               # Fisher’s method\n",
    "    avg_tumor_prop  = mean(tumor_proportion),    \n",
    "    .groups = \"drop\"\n",
    "  )"
   ]
  },
  {
   "cell_type": "code",
   "execution_count": 104,
   "metadata": {
    "vscode": {
     "languageId": "r"
    }
   },
   "outputs": [],
   "source": [
    "# Multiple testing correction (BH)\n",
    "final_summary <- final_summary %>%\n",
    "  mutate(adj_p_bonf = p.adjust(combined_p, method = \"bonf\"),\n",
    "        adj_p_BH = p.adjust(combined_p, method = \"BH\")) %>%\n",
    "  filter(adj_p_BH < 0.05)"
   ]
  },
  {
   "cell_type": "code",
   "execution_count": null,
   "metadata": {
    "vscode": {
     "languageId": "r"
    }
   },
   "outputs": [],
   "source": [
    "\n",
    "# 7) Final effect-size threshold\n",
    "# final_summary <- final_summary %>%\n",
    "#   filter(abs(combined_coef) >= 0.3)"
   ]
  },
  {
   "cell_type": "code",
   "execution_count": 82,
   "metadata": {
    "vscode": {
     "languageId": "r"
    }
   },
   "outputs": [],
   "source": [
    "# write_csv(final_summary, here(\"output\", \"g.csv\"))"
   ]
  },
  {
   "cell_type": "markdown",
   "metadata": {},
   "source": [
    "# 3. Graph analysis"
   ]
  },
  {
   "cell_type": "code",
   "execution_count": 2,
   "metadata": {
    "vscode": {
     "languageId": "r"
    }
   },
   "outputs": [
    {
     "name": "stderr",
     "output_type": "stream",
     "text": [
      "\u001b[1mRows: \u001b[22m\u001b[34m144097\u001b[39m \u001b[1mColumns: \u001b[22m\u001b[34m10\u001b[39m\n",
      "\u001b[36m──\u001b[39m \u001b[1mColumn specification\u001b[22m \u001b[36m────────────────────────────────────────────────────────────────────────────────────────────────\u001b[39m\n",
      "\u001b[1mDelimiter:\u001b[22m \",\"\n",
      "\u001b[31mchr\u001b[39m (3): source, target, dominant_sign\n",
      "\u001b[32mdbl\u001b[39m (7): n_samples, direction_consistency, combined_coef, combined_p, avg_tumor_prop, adj_p_bonf, adj_p_BH\n",
      "\n",
      "\u001b[36mℹ\u001b[39m Use `spec()` to retrieve the full column specification for this data.\n",
      "\u001b[36mℹ\u001b[39m Specify the column types or set `show_col_types = FALSE` to quiet this message.\n"
     ]
    }
   ],
   "source": [
    "# final_summary <- read_csv(here(\"output\", \"g.csv\"))"
   ]
  },
  {
   "cell_type": "code",
   "execution_count": 105,
   "metadata": {
    "vscode": {
     "languageId": "r"
    }
   },
   "outputs": [],
   "source": [
    "g <- final_summary %>%\n",
    "  select(source, target, combined_coef) %>%\n",
    "  graph_from_data_frame(directed = TRUE)\n",
    "\n",
    "tfs <- unique(final_summary$source)\n"
   ]
  },
  {
   "cell_type": "markdown",
   "metadata": {},
   "source": [
    "## 1. Find cut node (articulation points)"
   ]
  },
  {
   "cell_type": "code",
   "execution_count": 106,
   "metadata": {
    "vscode": {
     "languageId": "r"
    }
   },
   "outputs": [],
   "source": [
    "cut_vertices <- articulation_points(g)\n",
    "cut_vertex_names <- V(g)$name[cut_vertices]\n",
    "\n",
    "pr_res <- page_rank(g, directed = TRUE, weights = E(g)$weight)"
   ]
  },
  {
   "cell_type": "code",
   "execution_count": 111,
   "metadata": {
    "vscode": {
     "languageId": "r"
    }
   },
   "outputs": [
    {
     "data": {
      "text/html": [
       "<table class=\"dataframe\">\n",
       "<caption>A tibble: 30 × 12</caption>\n",
       "<thead>\n",
       "\t<tr><th scope=col>tf</th><th scope=col>out_degree</th><th scope=col>in_degree</th><th scope=col>strength_out</th><th scope=col>betweenness</th><th scope=col>eigencentrality</th><th scope=col>clustering_coef</th><th scope=col>authority_score</th><th scope=col>hub_score</th><th scope=col>page_rank</th><th scope=col>is_cut_vertex</th><th scope=col>regulatory_importance</th></tr>\n",
       "\t<tr><th scope=col>&lt;chr&gt;</th><th scope=col>&lt;dbl&gt;</th><th scope=col>&lt;dbl&gt;</th><th scope=col>&lt;dbl&gt;</th><th scope=col>&lt;dbl&gt;</th><th scope=col>&lt;dbl&gt;</th><th scope=col>&lt;dbl&gt;</th><th scope=col>&lt;dbl&gt;</th><th scope=col>&lt;dbl&gt;</th><th scope=col>&lt;dbl&gt;</th><th scope=col>&lt;lgl&gt;</th><th scope=col>&lt;dbl&gt;</th></tr>\n",
       "</thead>\n",
       "<tbody>\n",
       "\t<tr><td>KLF6   </td><td> 4.5335291</td><td> 4.2535953</td><td> 4.5335291</td><td> 7.75239121</td><td> 3.83468296</td><td>-0.68262695</td><td> 2.70473379</td><td> 5.11112248</td><td> 3.099304738</td><td> TRUE</td><td>4.4931115</td></tr>\n",
       "\t<tr><td>ATF3   </td><td> 3.6711304</td><td> 1.9310227</td><td> 3.6711304</td><td> 3.48809618</td><td> 2.45849351</td><td>-0.67327023</td><td> 0.96333955</td><td> 3.88519498</td><td> 1.754626137</td><td> TRUE</td><td>3.3382730</td></tr>\n",
       "\t<tr><td>BHLHE40</td><td> 3.9945299</td><td> 0.8753079</td><td> 3.9945299</td><td> 2.20885184</td><td> 1.03004800</td><td>-0.70175669</td><td> 0.81244542</td><td> 4.19050206</td><td> 0.679632661</td><td> TRUE</td><td>3.0716933</td></tr>\n",
       "\t<tr><td>MEF2C  </td><td> 4.5874290</td><td> 1.5087367</td><td> 4.5874290</td><td> 4.17177212</td><td>-0.03017692</td><td>-0.74336241</td><td> 0.46205538</td><td> 3.78843166</td><td> 6.469391451</td><td> TRUE</td><td>2.7818946</td></tr>\n",
       "\t<tr><td>MEF2A  </td><td> 2.7763917</td><td> 1.9310227</td><td> 2.7763917</td><td> 3.52606499</td><td> 1.47626499</td><td>-0.61910262</td><td> 1.70085607</td><td> 3.13487525</td><td> 2.430682055</td><td> TRUE</td><td>2.4625107</td></tr>\n",
       "\t<tr><td>POU2F2 </td><td> 4.1562297</td><td>-1.0249788</td><td> 4.1562297</td><td>-0.42292815</td><td>-0.89094516</td><td>-0.74833601</td><td>-1.09980264</td><td> 3.86777146</td><td>-0.555072835</td><td> TRUE</td><td>2.3776853</td></tr>\n",
       "\t<tr><td>EGR1   </td><td> 2.3128524</td><td> 1.5087367</td><td> 2.3128524</td><td> 3.46102436</td><td> 1.82644245</td><td>-0.62610913</td><td> 1.27501456</td><td> 2.22317077</td><td> 0.491664598</td><td> TRUE</td><td>2.1208219</td></tr>\n",
       "\t<tr><td>FOS    </td><td> 2.3667523</td><td> 1.2975938</td><td> 2.3667523</td><td> 2.69361874</td><td> 0.93629323</td><td>-0.63494458</td><td> 1.19233624</td><td> 2.17018810</td><td> 0.080940724</td><td> TRUE</td><td>1.8244112</td></tr>\n",
       "\t<tr><td>ETS1   </td><td> 1.8061932</td><td> 0.8753079</td><td> 1.8061932</td><td> 0.84141103</td><td> 1.32270614</td><td>-0.63479176</td><td> 1.60165596</td><td> 1.77811605</td><td>-0.219982278</td><td> TRUE</td><td>1.6356718</td></tr>\n",
       "\t<tr><td>HEY1   </td><td> 2.6901518</td><td>-0.3915499</td><td> 2.6901518</td><td> 0.24768779</td><td>-0.61918876</td><td>-0.69874700</td><td>-0.20050306</td><td> 2.65822006</td><td>-0.464708771</td><td> TRUE</td><td>1.5763944</td></tr>\n",
       "\t<tr><td>IRF1   </td><td> 1.5905935</td><td> 1.0864508</td><td> 1.5905935</td><td> 0.91670938</td><td> 1.35503908</td><td>-0.58214078</td><td> 1.53873969</td><td> 1.35733805</td><td>-0.112610949</td><td> TRUE</td><td>1.4343235</td></tr>\n",
       "\t<tr><td>KLF2   </td><td> 1.2995339</td><td> 1.2975938</td><td> 1.2995339</td><td> 1.27671986</td><td> 1.08817601</td><td>-0.43043214</td><td> 1.43090975</td><td> 1.55663941</td><td> 0.397660862</td><td> TRUE</td><td>1.3147831</td></tr>\n",
       "\t<tr><td>MAFF   </td><td> 0.4047952</td><td> 2.1421656</td><td> 0.4047952</td><td> 0.45827478</td><td> 2.88669685</td><td> 0.04266409</td><td> 1.90537625</td><td> 0.59093900</td><td> 0.783246225</td><td>FALSE</td><td>1.2941437</td></tr>\n",
       "\t<tr><td>REL    </td><td> 0.9869144</td><td> 1.7198797</td><td> 0.9869144</td><td> 1.69913590</td><td> 1.60569666</td><td>-0.40410788</td><td> 2.14939268</td><td> 0.92806598</td><td> 0.164178591</td><td> TRUE</td><td>1.1735590</td></tr>\n",
       "\t<tr><td>CEBPB  </td><td> 0.6527349</td><td> 1.5087367</td><td> 0.6527349</td><td> 0.61359816</td><td> 2.10683986</td><td>-0.40878616</td><td> 1.92309218</td><td> 0.52998007</td><td> 0.127798700</td><td> TRUE</td><td>1.0965183</td></tr>\n",
       "\t<tr><td>EGR3   </td><td> 0.4586951</td><td> 1.5087367</td><td> 0.4586951</td><td> 0.57827690</td><td> 2.13496624</td><td>-0.23794337</td><td> 1.33074426</td><td> 0.57324379</td><td> 0.337291539</td><td> TRUE</td><td>1.0556351</td></tr>\n",
       "\t<tr><td>BHLHE41</td><td> 0.9006745</td><td> 1.2975938</td><td> 0.9006745</td><td> 1.11777578</td><td> 1.21261130</td><td>-0.54092624</td><td> 0.93886589</td><td> 1.02559324</td><td> 0.768996058</td><td> TRUE</td><td>1.0462930</td></tr>\n",
       "\t<tr><td>KLF4   </td><td> 0.4802551</td><td> 0.8753079</td><td> 0.4802551</td><td> 0.04360232</td><td> 1.75885953</td><td>-0.22542740</td><td> 1.05375134</td><td> 0.70660743</td><td>-0.096033811</td><td> TRUE</td><td>0.9819074</td></tr>\n",
       "\t<tr><td>PRDM1  </td><td> 1.7954132</td><td> 0.4530219</td><td> 1.7954132</td><td> 0.78249214</td><td>-0.56717960</td><td>-0.69580505</td><td> 0.08828553</td><td> 1.67487007</td><td> 1.491677901</td><td> TRUE</td><td>0.9677012</td></tr>\n",
       "\t<tr><td>ELF1   </td><td> 1.3642138</td><td>-0.6026929</td><td> 1.3642138</td><td> 0.09399640</td><td>-0.30968274</td><td>-0.69552510</td><td>-0.03760208</td><td> 1.53094767</td><td>-0.512177497</td><td> TRUE</td><td>0.8618262</td></tr>\n",
       "\t<tr><td>MXI1   </td><td> 0.5557150</td><td> 1.0864508</td><td> 0.5557150</td><td> 0.27178930</td><td> 1.17432547</td><td>-0.43773442</td><td> 0.51829941</td><td> 0.67322704</td><td> 0.757883025</td><td>FALSE</td><td>0.8010892</td></tr>\n",
       "\t<tr><td>JUNB   </td><td> 0.1568556</td><td> 1.7198797</td><td> 0.1568556</td><td> 0.14154791</td><td> 2.10568145</td><td> 0.12736251</td><td> 2.25104872</td><td> 0.13108066</td><td>-0.005721546</td><td> TRUE</td><td>0.7978726</td></tr>\n",
       "\t<tr><td>JUN    </td><td> 0.2215355</td><td> 1.2975938</td><td> 0.2215355</td><td> 0.17105162</td><td> 1.87672239</td><td>-0.28440419</td><td> 1.27008023</td><td> 0.15848296</td><td> 0.825814234</td><td> TRUE</td><td>0.7522469</td></tr>\n",
       "\t<tr><td>FOSL2  </td><td> 0.2538754</td><td> 1.2975938</td><td> 0.2538754</td><td> 0.03985850</td><td> 1.73364580</td><td>-0.08270002</td><td> 1.73275758</td><td> 0.24915981</td><td> 0.084717238</td><td> TRUE</td><td>0.7455604</td></tr>\n",
       "\t<tr><td>EGR2   </td><td> 0.2430955</td><td> 0.8753079</td><td> 0.2430955</td><td> 0.03449865</td><td> 1.57540541</td><td> 0.04243435</td><td> 1.35089414</td><td> 0.34978493</td><td>-0.212416534</td><td>FALSE</td><td>0.7227619</td></tr>\n",
       "\t<tr><td>CREB5  </td><td> 0.0167158</td><td> 1.9310227</td><td> 0.0167158</td><td> 1.13103563</td><td> 1.88953285</td><td>-0.03610683</td><td> 1.62944493</td><td>-0.04903904</td><td> 1.063677203</td><td>FALSE</td><td>0.6190699</td></tr>\n",
       "\t<tr><td>MYC    </td><td> 0.7928746</td><td>-0.3915499</td><td> 0.7928746</td><td>-0.16207664</td><td> 0.04148304</td><td>-0.37832232</td><td>-0.59064365</td><td> 1.01103639</td><td>-0.375462998</td><td> TRUE</td><td>0.6151314</td></tr>\n",
       "\t<tr><td>KLF10  </td><td>-0.1881039</td><td> 1.5087367</td><td>-0.1881039</td><td>-0.17094734</td><td> 2.05989627</td><td> 0.48472696</td><td> 1.93557194</td><td>-0.15715250</td><td>-0.034561735</td><td> TRUE</td><td>0.5715466</td></tr>\n",
       "\t<tr><td>HES1   </td><td> 0.7928746</td><td> 1.2975938</td><td> 0.7928746</td><td> 1.22151763</td><td> 0.26784325</td><td>-0.50157460</td><td> 1.26132023</td><td> 0.60324781</td><td> 0.137452527</td><td> TRUE</td><td>0.5546552</td></tr>\n",
       "\t<tr><td>NR4A1  </td><td>-0.1449840</td><td> 2.3533086</td><td>-0.1449840</td><td>-0.24129878</td><td> 2.01302837</td><td>-0.01868117</td><td> 1.58551057</td><td>-0.22107587</td><td> 0.776925516</td><td> TRUE</td><td>0.5489895</td></tr>\n",
       "</tbody>\n",
       "</table>\n"
      ],
      "text/latex": [
       "A tibble: 30 × 12\n",
       "\\begin{tabular}{llllllllllll}\n",
       " tf & out\\_degree & in\\_degree & strength\\_out & betweenness & eigencentrality & clustering\\_coef & authority\\_score & hub\\_score & page\\_rank & is\\_cut\\_vertex & regulatory\\_importance\\\\\n",
       " <chr> & <dbl> & <dbl> & <dbl> & <dbl> & <dbl> & <dbl> & <dbl> & <dbl> & <dbl> & <lgl> & <dbl>\\\\\n",
       "\\hline\n",
       "\t KLF6    &  4.5335291 &  4.2535953 &  4.5335291 &  7.75239121 &  3.83468296 & -0.68262695 &  2.70473379 &  5.11112248 &  3.099304738 &  TRUE & 4.4931115\\\\\n",
       "\t ATF3    &  3.6711304 &  1.9310227 &  3.6711304 &  3.48809618 &  2.45849351 & -0.67327023 &  0.96333955 &  3.88519498 &  1.754626137 &  TRUE & 3.3382730\\\\\n",
       "\t BHLHE40 &  3.9945299 &  0.8753079 &  3.9945299 &  2.20885184 &  1.03004800 & -0.70175669 &  0.81244542 &  4.19050206 &  0.679632661 &  TRUE & 3.0716933\\\\\n",
       "\t MEF2C   &  4.5874290 &  1.5087367 &  4.5874290 &  4.17177212 & -0.03017692 & -0.74336241 &  0.46205538 &  3.78843166 &  6.469391451 &  TRUE & 2.7818946\\\\\n",
       "\t MEF2A   &  2.7763917 &  1.9310227 &  2.7763917 &  3.52606499 &  1.47626499 & -0.61910262 &  1.70085607 &  3.13487525 &  2.430682055 &  TRUE & 2.4625107\\\\\n",
       "\t POU2F2  &  4.1562297 & -1.0249788 &  4.1562297 & -0.42292815 & -0.89094516 & -0.74833601 & -1.09980264 &  3.86777146 & -0.555072835 &  TRUE & 2.3776853\\\\\n",
       "\t EGR1    &  2.3128524 &  1.5087367 &  2.3128524 &  3.46102436 &  1.82644245 & -0.62610913 &  1.27501456 &  2.22317077 &  0.491664598 &  TRUE & 2.1208219\\\\\n",
       "\t FOS     &  2.3667523 &  1.2975938 &  2.3667523 &  2.69361874 &  0.93629323 & -0.63494458 &  1.19233624 &  2.17018810 &  0.080940724 &  TRUE & 1.8244112\\\\\n",
       "\t ETS1    &  1.8061932 &  0.8753079 &  1.8061932 &  0.84141103 &  1.32270614 & -0.63479176 &  1.60165596 &  1.77811605 & -0.219982278 &  TRUE & 1.6356718\\\\\n",
       "\t HEY1    &  2.6901518 & -0.3915499 &  2.6901518 &  0.24768779 & -0.61918876 & -0.69874700 & -0.20050306 &  2.65822006 & -0.464708771 &  TRUE & 1.5763944\\\\\n",
       "\t IRF1    &  1.5905935 &  1.0864508 &  1.5905935 &  0.91670938 &  1.35503908 & -0.58214078 &  1.53873969 &  1.35733805 & -0.112610949 &  TRUE & 1.4343235\\\\\n",
       "\t KLF2    &  1.2995339 &  1.2975938 &  1.2995339 &  1.27671986 &  1.08817601 & -0.43043214 &  1.43090975 &  1.55663941 &  0.397660862 &  TRUE & 1.3147831\\\\\n",
       "\t MAFF    &  0.4047952 &  2.1421656 &  0.4047952 &  0.45827478 &  2.88669685 &  0.04266409 &  1.90537625 &  0.59093900 &  0.783246225 & FALSE & 1.2941437\\\\\n",
       "\t REL     &  0.9869144 &  1.7198797 &  0.9869144 &  1.69913590 &  1.60569666 & -0.40410788 &  2.14939268 &  0.92806598 &  0.164178591 &  TRUE & 1.1735590\\\\\n",
       "\t CEBPB   &  0.6527349 &  1.5087367 &  0.6527349 &  0.61359816 &  2.10683986 & -0.40878616 &  1.92309218 &  0.52998007 &  0.127798700 &  TRUE & 1.0965183\\\\\n",
       "\t EGR3    &  0.4586951 &  1.5087367 &  0.4586951 &  0.57827690 &  2.13496624 & -0.23794337 &  1.33074426 &  0.57324379 &  0.337291539 &  TRUE & 1.0556351\\\\\n",
       "\t BHLHE41 &  0.9006745 &  1.2975938 &  0.9006745 &  1.11777578 &  1.21261130 & -0.54092624 &  0.93886589 &  1.02559324 &  0.768996058 &  TRUE & 1.0462930\\\\\n",
       "\t KLF4    &  0.4802551 &  0.8753079 &  0.4802551 &  0.04360232 &  1.75885953 & -0.22542740 &  1.05375134 &  0.70660743 & -0.096033811 &  TRUE & 0.9819074\\\\\n",
       "\t PRDM1   &  1.7954132 &  0.4530219 &  1.7954132 &  0.78249214 & -0.56717960 & -0.69580505 &  0.08828553 &  1.67487007 &  1.491677901 &  TRUE & 0.9677012\\\\\n",
       "\t ELF1    &  1.3642138 & -0.6026929 &  1.3642138 &  0.09399640 & -0.30968274 & -0.69552510 & -0.03760208 &  1.53094767 & -0.512177497 &  TRUE & 0.8618262\\\\\n",
       "\t MXI1    &  0.5557150 &  1.0864508 &  0.5557150 &  0.27178930 &  1.17432547 & -0.43773442 &  0.51829941 &  0.67322704 &  0.757883025 & FALSE & 0.8010892\\\\\n",
       "\t JUNB    &  0.1568556 &  1.7198797 &  0.1568556 &  0.14154791 &  2.10568145 &  0.12736251 &  2.25104872 &  0.13108066 & -0.005721546 &  TRUE & 0.7978726\\\\\n",
       "\t JUN     &  0.2215355 &  1.2975938 &  0.2215355 &  0.17105162 &  1.87672239 & -0.28440419 &  1.27008023 &  0.15848296 &  0.825814234 &  TRUE & 0.7522469\\\\\n",
       "\t FOSL2   &  0.2538754 &  1.2975938 &  0.2538754 &  0.03985850 &  1.73364580 & -0.08270002 &  1.73275758 &  0.24915981 &  0.084717238 &  TRUE & 0.7455604\\\\\n",
       "\t EGR2    &  0.2430955 &  0.8753079 &  0.2430955 &  0.03449865 &  1.57540541 &  0.04243435 &  1.35089414 &  0.34978493 & -0.212416534 & FALSE & 0.7227619\\\\\n",
       "\t CREB5   &  0.0167158 &  1.9310227 &  0.0167158 &  1.13103563 &  1.88953285 & -0.03610683 &  1.62944493 & -0.04903904 &  1.063677203 & FALSE & 0.6190699\\\\\n",
       "\t MYC     &  0.7928746 & -0.3915499 &  0.7928746 & -0.16207664 &  0.04148304 & -0.37832232 & -0.59064365 &  1.01103639 & -0.375462998 &  TRUE & 0.6151314\\\\\n",
       "\t KLF10   & -0.1881039 &  1.5087367 & -0.1881039 & -0.17094734 &  2.05989627 &  0.48472696 &  1.93557194 & -0.15715250 & -0.034561735 &  TRUE & 0.5715466\\\\\n",
       "\t HES1    &  0.7928746 &  1.2975938 &  0.7928746 &  1.22151763 &  0.26784325 & -0.50157460 &  1.26132023 &  0.60324781 &  0.137452527 &  TRUE & 0.5546552\\\\\n",
       "\t NR4A1   & -0.1449840 &  2.3533086 & -0.1449840 & -0.24129878 &  2.01302837 & -0.01868117 &  1.58551057 & -0.22107587 &  0.776925516 &  TRUE & 0.5489895\\\\\n",
       "\\end{tabular}\n"
      ],
      "text/markdown": [
       "\n",
       "A tibble: 30 × 12\n",
       "\n",
       "| tf &lt;chr&gt; | out_degree &lt;dbl&gt; | in_degree &lt;dbl&gt; | strength_out &lt;dbl&gt; | betweenness &lt;dbl&gt; | eigencentrality &lt;dbl&gt; | clustering_coef &lt;dbl&gt; | authority_score &lt;dbl&gt; | hub_score &lt;dbl&gt; | page_rank &lt;dbl&gt; | is_cut_vertex &lt;lgl&gt; | regulatory_importance &lt;dbl&gt; |\n",
       "|---|---|---|---|---|---|---|---|---|---|---|---|\n",
       "| KLF6    |  4.5335291 |  4.2535953 |  4.5335291 |  7.75239121 |  3.83468296 | -0.68262695 |  2.70473379 |  5.11112248 |  3.099304738 |  TRUE | 4.4931115 |\n",
       "| ATF3    |  3.6711304 |  1.9310227 |  3.6711304 |  3.48809618 |  2.45849351 | -0.67327023 |  0.96333955 |  3.88519498 |  1.754626137 |  TRUE | 3.3382730 |\n",
       "| BHLHE40 |  3.9945299 |  0.8753079 |  3.9945299 |  2.20885184 |  1.03004800 | -0.70175669 |  0.81244542 |  4.19050206 |  0.679632661 |  TRUE | 3.0716933 |\n",
       "| MEF2C   |  4.5874290 |  1.5087367 |  4.5874290 |  4.17177212 | -0.03017692 | -0.74336241 |  0.46205538 |  3.78843166 |  6.469391451 |  TRUE | 2.7818946 |\n",
       "| MEF2A   |  2.7763917 |  1.9310227 |  2.7763917 |  3.52606499 |  1.47626499 | -0.61910262 |  1.70085607 |  3.13487525 |  2.430682055 |  TRUE | 2.4625107 |\n",
       "| POU2F2  |  4.1562297 | -1.0249788 |  4.1562297 | -0.42292815 | -0.89094516 | -0.74833601 | -1.09980264 |  3.86777146 | -0.555072835 |  TRUE | 2.3776853 |\n",
       "| EGR1    |  2.3128524 |  1.5087367 |  2.3128524 |  3.46102436 |  1.82644245 | -0.62610913 |  1.27501456 |  2.22317077 |  0.491664598 |  TRUE | 2.1208219 |\n",
       "| FOS     |  2.3667523 |  1.2975938 |  2.3667523 |  2.69361874 |  0.93629323 | -0.63494458 |  1.19233624 |  2.17018810 |  0.080940724 |  TRUE | 1.8244112 |\n",
       "| ETS1    |  1.8061932 |  0.8753079 |  1.8061932 |  0.84141103 |  1.32270614 | -0.63479176 |  1.60165596 |  1.77811605 | -0.219982278 |  TRUE | 1.6356718 |\n",
       "| HEY1    |  2.6901518 | -0.3915499 |  2.6901518 |  0.24768779 | -0.61918876 | -0.69874700 | -0.20050306 |  2.65822006 | -0.464708771 |  TRUE | 1.5763944 |\n",
       "| IRF1    |  1.5905935 |  1.0864508 |  1.5905935 |  0.91670938 |  1.35503908 | -0.58214078 |  1.53873969 |  1.35733805 | -0.112610949 |  TRUE | 1.4343235 |\n",
       "| KLF2    |  1.2995339 |  1.2975938 |  1.2995339 |  1.27671986 |  1.08817601 | -0.43043214 |  1.43090975 |  1.55663941 |  0.397660862 |  TRUE | 1.3147831 |\n",
       "| MAFF    |  0.4047952 |  2.1421656 |  0.4047952 |  0.45827478 |  2.88669685 |  0.04266409 |  1.90537625 |  0.59093900 |  0.783246225 | FALSE | 1.2941437 |\n",
       "| REL     |  0.9869144 |  1.7198797 |  0.9869144 |  1.69913590 |  1.60569666 | -0.40410788 |  2.14939268 |  0.92806598 |  0.164178591 |  TRUE | 1.1735590 |\n",
       "| CEBPB   |  0.6527349 |  1.5087367 |  0.6527349 |  0.61359816 |  2.10683986 | -0.40878616 |  1.92309218 |  0.52998007 |  0.127798700 |  TRUE | 1.0965183 |\n",
       "| EGR3    |  0.4586951 |  1.5087367 |  0.4586951 |  0.57827690 |  2.13496624 | -0.23794337 |  1.33074426 |  0.57324379 |  0.337291539 |  TRUE | 1.0556351 |\n",
       "| BHLHE41 |  0.9006745 |  1.2975938 |  0.9006745 |  1.11777578 |  1.21261130 | -0.54092624 |  0.93886589 |  1.02559324 |  0.768996058 |  TRUE | 1.0462930 |\n",
       "| KLF4    |  0.4802551 |  0.8753079 |  0.4802551 |  0.04360232 |  1.75885953 | -0.22542740 |  1.05375134 |  0.70660743 | -0.096033811 |  TRUE | 0.9819074 |\n",
       "| PRDM1   |  1.7954132 |  0.4530219 |  1.7954132 |  0.78249214 | -0.56717960 | -0.69580505 |  0.08828553 |  1.67487007 |  1.491677901 |  TRUE | 0.9677012 |\n",
       "| ELF1    |  1.3642138 | -0.6026929 |  1.3642138 |  0.09399640 | -0.30968274 | -0.69552510 | -0.03760208 |  1.53094767 | -0.512177497 |  TRUE | 0.8618262 |\n",
       "| MXI1    |  0.5557150 |  1.0864508 |  0.5557150 |  0.27178930 |  1.17432547 | -0.43773442 |  0.51829941 |  0.67322704 |  0.757883025 | FALSE | 0.8010892 |\n",
       "| JUNB    |  0.1568556 |  1.7198797 |  0.1568556 |  0.14154791 |  2.10568145 |  0.12736251 |  2.25104872 |  0.13108066 | -0.005721546 |  TRUE | 0.7978726 |\n",
       "| JUN     |  0.2215355 |  1.2975938 |  0.2215355 |  0.17105162 |  1.87672239 | -0.28440419 |  1.27008023 |  0.15848296 |  0.825814234 |  TRUE | 0.7522469 |\n",
       "| FOSL2   |  0.2538754 |  1.2975938 |  0.2538754 |  0.03985850 |  1.73364580 | -0.08270002 |  1.73275758 |  0.24915981 |  0.084717238 |  TRUE | 0.7455604 |\n",
       "| EGR2    |  0.2430955 |  0.8753079 |  0.2430955 |  0.03449865 |  1.57540541 |  0.04243435 |  1.35089414 |  0.34978493 | -0.212416534 | FALSE | 0.7227619 |\n",
       "| CREB5   |  0.0167158 |  1.9310227 |  0.0167158 |  1.13103563 |  1.88953285 | -0.03610683 |  1.62944493 | -0.04903904 |  1.063677203 | FALSE | 0.6190699 |\n",
       "| MYC     |  0.7928746 | -0.3915499 |  0.7928746 | -0.16207664 |  0.04148304 | -0.37832232 | -0.59064365 |  1.01103639 | -0.375462998 |  TRUE | 0.6151314 |\n",
       "| KLF10   | -0.1881039 |  1.5087367 | -0.1881039 | -0.17094734 |  2.05989627 |  0.48472696 |  1.93557194 | -0.15715250 | -0.034561735 |  TRUE | 0.5715466 |\n",
       "| HES1    |  0.7928746 |  1.2975938 |  0.7928746 |  1.22151763 |  0.26784325 | -0.50157460 |  1.26132023 |  0.60324781 |  0.137452527 |  TRUE | 0.5546552 |\n",
       "| NR4A1   | -0.1449840 |  2.3533086 | -0.1449840 | -0.24129878 |  2.01302837 | -0.01868117 |  1.58551057 | -0.22107587 |  0.776925516 |  TRUE | 0.5489895 |\n",
       "\n"
      ],
      "text/plain": [
       "   tf      out_degree in_degree  strength_out betweenness eigencentrality clustering_coef authority_score hub_score  \n",
       "1  KLF6     4.5335291  4.2535953  4.5335291    7.75239121  3.83468296     -0.68262695      2.70473379      5.11112248\n",
       "2  ATF3     3.6711304  1.9310227  3.6711304    3.48809618  2.45849351     -0.67327023      0.96333955      3.88519498\n",
       "3  BHLHE40  3.9945299  0.8753079  3.9945299    2.20885184  1.03004800     -0.70175669      0.81244542      4.19050206\n",
       "4  MEF2C    4.5874290  1.5087367  4.5874290    4.17177212 -0.03017692     -0.74336241      0.46205538      3.78843166\n",
       "   page_rank    is_cut_vertex regulatory_importance\n",
       "1   3.099304738  TRUE         4.4931115            \n",
       "2   1.754626137  TRUE         3.3382730            \n",
       "3   0.679632661  TRUE         3.0716933            \n",
       "4   6.469391451  TRUE         2.7818946            \n",
       " [ reached getOption(\"max.print\") -- omitted 26 rows ]"
      ]
     },
     "metadata": {},
     "output_type": "display_data"
    }
   ],
   "source": [
    "tf_importance <- tibble(\n",
    "  tf = V(g)$name,\n",
    "  out_degree = degree(g, mode = \"out\"),\n",
    "  in_degree = degree(g, mode = \"in\"),\n",
    "  strength_out = strength(g, mode = \"out\"),\n",
    "  betweenness = betweenness(g, normalized = TRUE),\n",
    "  eigencentrality = eigen_centrality(g, directed = TRUE, weights = E(g)$weight)$vector,\n",
    "  clustering_coef = transitivity(g, type = \"local\"),\n",
    "  authority_score = authority_score(g)$vector,\n",
    "  hub_score = hub_score(g)$vector,\n",
    "  page_rank = pr_res$vector,\n",
    "  is_cut_vertex = tf %in% cut_vertex_names,\n",
    ") %>%\n",
    "  filter(tf %in% tfs) %>%\n",
    "  # Scale numeric columns\n",
    "  mutate(across(where(is.numeric), ~ scale(.) %>% as.vector)) %>%\n",
    "  mutate(\n",
    "    # Weighted linear combination example\n",
    "    regulatory_importance = (\n",
    "      1 * out_degree +\n",
    "      1 * eigencentrality +\n",
    "      1 * hub_score \n",
    "      # 1.5 * page_rank\n",
    "    ) / (1 + 1 + 1) # sum of weights\n",
    "  ) %>%\n",
    "  arrange(desc(regulatory_importance))\n",
    "\n",
    "head(tf_importance, 30)"
   ]
  },
  {
   "cell_type": "code",
   "execution_count": 115,
   "metadata": {
    "vscode": {
     "languageId": "r"
    }
   },
   "outputs": [
    {
     "data": {
      "text/html": [
       "'LEF1'"
      ],
      "text/latex": [
       "'LEF1'"
      ],
      "text/markdown": [
       "'LEF1'"
      ],
      "text/plain": [
       "[1] \"LEF1\""
      ]
     },
     "metadata": {},
     "output_type": "display_data"
    }
   ],
   "source": [
    "tf_importance$tf[str_starts(tf_importance$tf, \"LEF\")]"
   ]
  },
  {
   "cell_type": "code",
   "execution_count": 116,
   "metadata": {
    "vscode": {
     "languageId": "r"
    }
   },
   "outputs": [
    {
     "data": {
      "text/html": [
       "<table class=\"dataframe\">\n",
       "<caption>A tibble: 1 × 12</caption>\n",
       "<thead>\n",
       "\t<tr><th scope=col>tf</th><th scope=col>out_degree</th><th scope=col>in_degree</th><th scope=col>strength_out</th><th scope=col>betweenness</th><th scope=col>eigencentrality</th><th scope=col>clustering_coef</th><th scope=col>authority_score</th><th scope=col>hub_score</th><th scope=col>page_rank</th><th scope=col>is_cut_vertex</th><th scope=col>regulatory_importance</th></tr>\n",
       "\t<tr><th scope=col>&lt;chr&gt;</th><th scope=col>&lt;dbl&gt;</th><th scope=col>&lt;dbl&gt;</th><th scope=col>&lt;dbl&gt;</th><th scope=col>&lt;dbl&gt;</th><th scope=col>&lt;dbl&gt;</th><th scope=col>&lt;dbl&gt;</th><th scope=col>&lt;dbl&gt;</th><th scope=col>&lt;dbl&gt;</th><th scope=col>&lt;dbl&gt;</th><th scope=col>&lt;lgl&gt;</th><th scope=col>&lt;dbl&gt;</th></tr>\n",
       "</thead>\n",
       "<tbody>\n",
       "\t<tr><td>LEF1</td><td>-0.5546234</td><td>-0.3915499</td><td>-0.5546234</td><td>-0.4050661</td><td>-0.5280889</td><td>-0.8241342</td><td>-0.5187577</td><td>-0.5364529</td><td>-0.3878953</td><td>FALSE</td><td>-0.5397217</td></tr>\n",
       "</tbody>\n",
       "</table>\n"
      ],
      "text/latex": [
       "A tibble: 1 × 12\n",
       "\\begin{tabular}{llllllllllll}\n",
       " tf & out\\_degree & in\\_degree & strength\\_out & betweenness & eigencentrality & clustering\\_coef & authority\\_score & hub\\_score & page\\_rank & is\\_cut\\_vertex & regulatory\\_importance\\\\\n",
       " <chr> & <dbl> & <dbl> & <dbl> & <dbl> & <dbl> & <dbl> & <dbl> & <dbl> & <dbl> & <lgl> & <dbl>\\\\\n",
       "\\hline\n",
       "\t LEF1 & -0.5546234 & -0.3915499 & -0.5546234 & -0.4050661 & -0.5280889 & -0.8241342 & -0.5187577 & -0.5364529 & -0.3878953 & FALSE & -0.5397217\\\\\n",
       "\\end{tabular}\n"
      ],
      "text/markdown": [
       "\n",
       "A tibble: 1 × 12\n",
       "\n",
       "| tf &lt;chr&gt; | out_degree &lt;dbl&gt; | in_degree &lt;dbl&gt; | strength_out &lt;dbl&gt; | betweenness &lt;dbl&gt; | eigencentrality &lt;dbl&gt; | clustering_coef &lt;dbl&gt; | authority_score &lt;dbl&gt; | hub_score &lt;dbl&gt; | page_rank &lt;dbl&gt; | is_cut_vertex &lt;lgl&gt; | regulatory_importance &lt;dbl&gt; |\n",
       "|---|---|---|---|---|---|---|---|---|---|---|---|\n",
       "| LEF1 | -0.5546234 | -0.3915499 | -0.5546234 | -0.4050661 | -0.5280889 | -0.8241342 | -0.5187577 | -0.5364529 | -0.3878953 | FALSE | -0.5397217 |\n",
       "\n"
      ],
      "text/plain": [
       "  tf   out_degree in_degree  strength_out betweenness eigencentrality clustering_coef authority_score hub_score \n",
       "1 LEF1 -0.5546234 -0.3915499 -0.5546234   -0.4050661  -0.5280889      -0.8241342      -0.5187577      -0.5364529\n",
       "  page_rank  is_cut_vertex regulatory_importance\n",
       "1 -0.3878953 FALSE         -0.5397217           "
      ]
     },
     "metadata": {},
     "output_type": "display_data"
    }
   ],
   "source": [
    "tf_importance[tf_importance$tf == \"LEF1\",]"
   ]
  }
 ],
 "metadata": {
  "kernelspec": {
   "display_name": "R",
   "language": "R",
   "name": "ir"
  },
  "language_info": {
   "codemirror_mode": "r",
   "file_extension": ".r",
   "mimetype": "text/x-r-source",
   "name": "R",
   "pygments_lexer": "r",
   "version": "4.4.2"
  }
 },
 "nbformat": 4,
 "nbformat_minor": 2
}
