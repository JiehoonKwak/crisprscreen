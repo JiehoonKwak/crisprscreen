{
 "cells": [
  {
   "cell_type": "code",
   "execution_count": 1,
   "metadata": {},
   "outputs": [],
   "source": [
    "import os\n",
    "import warnings\n",
    "warnings.filterwarnings('ignore')\n",
    "import scanpy as sc\n",
    "import scvi"
   ]
  },
  {
   "cell_type": "code",
   "execution_count": 3,
   "metadata": {},
   "outputs": [],
   "source": [
    "os.chdir('../../')"
   ]
  },
  {
   "cell_type": "markdown",
   "metadata": {},
   "source": [
    "# 1. Check samples"
   ]
  },
  {
   "cell_type": "code",
   "execution_count": 5,
   "metadata": {},
   "outputs": [
    {
     "data": {
      "text/plain": [
       "AnnData object with n_obs × n_vars = 819910 × 26302\n",
       "    obs: 'author', 'donor_id', 'assay_ontology_term_id', 'cell_type_ontology_term_id', 'development_stage_ontology_term_id', 'disease_ontology_term_id', 'self_reported_ethnicity_ontology_term_id', 'is_primary_data', 'organism_ontology_term_id', 'sex_ontology_term_id', 'annotation_level_1', 'annotation_level_2', 'annotation_level_3', 'gbmap', 'method', 'stage', 'location', 'sector', 'celltype_original', 'EGFR', 'MET', 'p53', 'TERT', 'ATRX', 'PTEN', 'MGMT', 'chr1p19q', 'PDGFR', 'suspension_type', 'tissue_ontology_term_id', 'tissue_type', 'cell_type', 'assay', 'disease', 'organism', 'sex', 'tissue', 'self_reported_ethnicity', 'development_stage', 'observation_joinid'\n",
       "    var: 'feature_types', 'genome', 'highly_variable', 'means', 'dispersions', 'dispersions_norm', 'highly_variable_nbatches', 'highly_variable_intersection', 'feature_is_filtered', 'feature_name', 'feature_reference', 'feature_biotype', 'feature_length', 'feature_type'\n",
       "    uns: 'X_approximate_distribution', 'batch_condition', 'cell_type_colors', 'citation', 'default_embedding', 'hvg', 'schema_reference', 'schema_version', 'title'\n",
       "    obsm: 'X_umap'"
      ]
     },
     "execution_count": 5,
     "metadata": {},
     "output_type": "execute_result"
    }
   ],
   "source": [
    "adata = sc.read_h5ad('output/extended_gbmap_filtered.h5ad')\n",
    "adata"
   ]
  },
  {
   "cell_type": "code",
   "execution_count": 7,
   "metadata": {},
   "outputs": [
    {
     "data": {
      "text/plain": [
       "annotation_level_3\n",
       "TAM-BDM            179319\n",
       "TAM-MG             154839\n",
       "AC-like            121680\n",
       "MES-like            94457\n",
       "OPC-like            93483\n",
       "NPC-like            37271\n",
       "CD4/CD8             35399\n",
       "Oligodendrocyte     30699\n",
       "Mono                21719\n",
       "OPC                 21447\n",
       "Mural cell           5281\n",
       "Endothelial          4980\n",
       "Neutrophil           4778\n",
       "DC                   4537\n",
       "RG                   3753\n",
       "Neuron               3413\n",
       "B cell                857\n",
       "Plasma B              694\n",
       "NK                    499\n",
       "Mast                  459\n",
       "Astrocyte             346\n",
       "Name: count, dtype: int64"
      ]
     },
     "execution_count": 7,
     "metadata": {},
     "output_type": "execute_result"
    }
   ],
   "source": [
    "adata.obs.annotation_level_3.value_counts()"
   ]
  },
  {
   "cell_type": "code",
   "execution_count": 8,
   "metadata": {},
   "outputs": [
    {
     "data": {
      "text/plain": [
       "cell_type\n",
       "malignant cell                    346891\n",
       "macrophage                        179319\n",
       "microglial cell                   154839\n",
       "mature T cell                      35399\n",
       "oligodendrocyte                    30699\n",
       "monocyte                           21719\n",
       "oligodendrocyte precursor cell     21447\n",
       "mural cell                          5281\n",
       "endothelial cell                    4980\n",
       "neutrophil                          4778\n",
       "dendritic cell                      4537\n",
       "radial glial cell                   3753\n",
       "neuron                              3413\n",
       "B cell                               857\n",
       "plasma cell                          694\n",
       "natural killer cell                  499\n",
       "mast cell                            459\n",
       "astrocyte                            346\n",
       "Name: count, dtype: int64"
      ]
     },
     "execution_count": 8,
     "metadata": {},
     "output_type": "execute_result"
    }
   ],
   "source": [
    "adata.obs.cell_type.value_counts()"
   ]
  },
  {
   "cell_type": "markdown",
   "metadata": {},
   "source": [
    "# 2. Integrate"
   ]
  },
  {
   "cell_type": "code",
   "execution_count": null,
   "metadata": {},
   "outputs": [],
   "source": [
    "sc.pp.normalize_total(source_adata)\n",
    "sc.pp.log1p(source_adata)\n",
    "source_adata.raw = source_adata # keep full dimension safe\n",
    "sc.pp.highly_variable_genes(\n",
    "    source_adata,\n",
    "    n_top_genes=5000,\n",
    "    batch_key=\"author\",\n",
    "    layer=\"counts\",\n",
    "    subset=True)"
   ]
  },
  {
   "cell_type": "code",
   "execution_count": null,
   "metadata": {},
   "outputs": [],
   "source": [
    "scvi.model.SCANVI.setup_anndata(adata, layer = \"counts\", batch_key=\"author\", labels_key=\"cell_type\")"
   ]
  },
  {
   "cell_type": "code",
   "execution_count": null,
   "metadata": {},
   "outputs": [],
   "source": [
    "early_stopping_kwargs = {\n",
    "    \"early_stopping_metric\": \"elbo\",\n",
    "    \"save_best_state_metric\": \"elbo\",\n",
    "    \"patience\": 10,\n",
    "    \"threshold\": 0,\n",
    "    \"reduce_lr_on_plateau\": True,\n",
    "    \"lr_patience\": 8,\n",
    "    \"lr_factor\": 0.1,\n",
    "}\n",
    "early_stopping_kwargs_scanvi = {\n",
    "    \"early_stopping_metric\": \"accuracy\",\n",
    "    \"save_best_state_metric\": \"accuracy\",\n",
    "    \"on\": \"full_dataset\",\n",
    "    \"patience\": 10,\n",
    "    \"threshold\": 0.001,\n",
    "    \"reduce_lr_on_plateau\": True,\n",
    "    \"lr_patience\": 8,\n",
    "    \"lr_factor\": 0.1,\n",
    "}\n",
    "early_stopping_kwargs_surgery = {\n",
    "    \"early_stopping_metric\": \"elbo\",\n",
    "    \"save_best_state_metric\": \"elbo\",\n",
    "    \"on\": \"full_dataset\",\n",
    "    \"patience\": 10,\n",
    "    \"threshold\": 0.001,\n",
    "    \"reduce_lr_on_plateau\": True,\n",
    "    \"lr_patience\": 8,\n",
    "    \"lr_factor\": 0.1,\n",
    "}"
   ]
  },
  {
   "cell_type": "code",
   "execution_count": null,
   "metadata": {},
   "outputs": [],
   "source": [
    "model = scvi.models.SCANVI(\n",
    "    adata,\n",
    "    \"Unknown\",\n",
    "    n_layers=2,\n",
    "    encode_covariates=True,\n",
    "    deeply_inject_covariates=False,\n",
    "    use_layer_norm=\"both\",\n",
    "    use_batch_norm=\"none\",\n",
    "    use_cuda = True # indicate to use gpu!\n",
    ")"
   ]
  },
  {
   "cell_type": "code",
   "execution_count": null,
   "metadata": {},
   "outputs": [],
   "source": [
    "model.train(\n",
    "    n_epochs_unsupervised=500,\n",
    "    n_epochs_semisupervised=200,\n",
    "    unsupervised_trainer_kwargs=dict(early_stopping_kwargs=early_stopping_kwargs),\n",
    "    semisupervised_trainer_kwargs=dict(metrics_to_monitor=[\"elbo\", \"accuracy\"],\n",
    "                                       early_stopping_kwargs=early_stopping_kwargs_scanvi),\n",
    "    frequency=1\n",
    ")"
   ]
  },
  {
   "cell_type": "code",
   "execution_count": null,
   "metadata": {},
   "outputs": [],
   "source": [
    "\n",
    "adata.obsm[\"X_scVI\"] = vae.get_latent_representation()\n",
    "adata.obs[\"pred_label\"] = vae.predict()"
   ]
  },
  {
   "cell_type": "markdown",
   "metadata": {},
   "source": [
    "# 3. Reannotate"
   ]
  }
 ],
 "metadata": {
  "kernelspec": {
   "display_name": "Python 3",
   "language": "python",
   "name": "python3"
  },
  "language_info": {
   "codemirror_mode": {
    "name": "ipython",
    "version": 3
   },
   "file_extension": ".py",
   "mimetype": "text/x-python",
   "name": "python",
   "nbconvert_exporter": "python",
   "pygments_lexer": "ipython3",
   "version": "3.11.11"
  }
 },
 "nbformat": 4,
 "nbformat_minor": 2
}
