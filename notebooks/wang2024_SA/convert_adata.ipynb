{
 "cells": [
  {
   "cell_type": "code",
   "execution_count": 1,
   "metadata": {
    "vscode": {
     "languageId": "r"
    }
   },
   "outputs": [
    {
     "name": "stderr",
     "output_type": "stream",
     "text": [
      "Loading required package: SeuratObject\n",
      "\n",
      "Loading required package: sp\n",
      "\n",
      "\n",
      "Attaching package: ‘SeuratObject’\n",
      "\n",
      "\n",
      "The following objects are masked from ‘package:base’:\n",
      "\n",
      "    intersect, t\n",
      "\n",
      "\n",
      "here() starts at /home/jiehoonk/project/crisprscreen\n",
      "\n"
     ]
    }
   ],
   "source": [
    "library(Seurat)\n",
    "library(here)\n",
    "# remotes::install_github(\"vertesy/Seurat.utils\")\n",
    "# library(Seurat.utils) "
   ]
  },
  {
   "cell_type": "code",
   "execution_count": 2,
   "metadata": {
    "vscode": {
     "languageId": "r"
    }
   },
   "outputs": [
    {
     "data": {
      "text/plain": [
       "An object of class Seurat \n",
       "39253 features across 90504 samples within 1 assay \n",
       "Active assay: RNA (39253 features, 3000 variable features)\n",
       " 3 layers present: counts, data, scale.data\n",
       " 2 dimensional reductions calculated: pca, umap"
      ]
     },
     "metadata": {},
     "output_type": "display_data"
    }
   ],
   "source": [
    "obj <- readRDS(here('data/wang2024_SA/raw/snRNA_allcell_seurat.rds'))\n",
    "obj"
   ]
  },
  {
   "cell_type": "markdown",
   "metadata": {},
   "source": [
    "- do not return full count"
   ]
  },
  {
   "cell_type": "code",
   "execution_count": 36,
   "metadata": {
    "vscode": {
     "languageId": "r"
    }
   },
   "outputs": [
    {
     "name": "stderr",
     "output_type": "stream",
     "text": [
      "Creating h5Seurat file for version 3.1.5.9900\n",
      "\n",
      "Adding counts for RNA\n",
      "\n",
      "Adding data for RNA\n",
      "\n",
      "Adding scale.data for RNA\n",
      "\n",
      "Adding variable features for RNA\n",
      "\n",
      "Adding feature-level metadata for RNA\n",
      "\n",
      "Adding cell embeddings for pca\n",
      "\n",
      "Adding loadings for pca\n",
      "\n",
      "No projected loadings for pca\n",
      "\n",
      "Adding standard deviations for pca\n",
      "\n",
      "No JackStraw data for pca\n",
      "\n",
      "Adding cell embeddings for umap\n",
      "\n",
      "No loadings for umap\n",
      "\n",
      "No projected loadings for umap\n",
      "\n",
      "No standard deviations for umap\n",
      "\n",
      "No JackStraw data for umap\n",
      "\n",
      "Validating h5Seurat file\n",
      "\n",
      "Adding scale.data from RNA as X\n",
      "\n",
      "Transfering meta.features to var\n",
      "\n",
      "Adding data from RNA as raw\n",
      "\n",
      "Transfering meta.features to raw/var\n",
      "\n",
      "Transfering meta.data to obs\n",
      "\n",
      "Adding dimensional reduction information for pca\n",
      "\n",
      "Adding feature loadings for pca\n",
      "\n",
      "Adding dimensional reduction information for umap\n",
      "\n",
      "Adding RNA_snn as neighbors\n",
      "\n"
     ]
    }
   ],
   "source": [
    "library(SeuratDisk)\n",
    "SaveH5Seurat(obj, filename = here('data/wang2024_SA/rna.h5Seurat'))\n",
    "Convert(here('data/wang2024_SA/rna.h5Seurat'), dest = 'h5ad')"
   ]
  },
  {
   "cell_type": "markdown",
   "metadata": {},
   "source": [
    "- extract counts"
   ]
  },
  {
   "cell_type": "code",
   "execution_count": 4,
   "metadata": {
    "vscode": {
     "languageId": "r"
    }
   },
   "outputs": [],
   "source": [
    "# Matrix::writeMM(obj[[\"RNA\"]]@counts, file = here('data/wang2024_SA/rna.mtx'))\n",
    "write.csv(rownames(obj[[\"RNA\"]]@counts), here('data/wang2024_SA/genes.csv'), row.names = FALSE)\n",
    "write.csv(colnames(obj[[\"RNA\"]]@counts), here('data/wang2024_SA/barcodes.csv'), row.names = FALSE)"
   ]
  },
  {
   "cell_type": "code",
   "execution_count": 45,
   "metadata": {
    "vscode": {
     "languageId": "r"
    }
   },
   "outputs": [
    {
     "name": "stderr",
     "output_type": "stream",
     "text": [
      "Validating h5Seurat file\n",
      "\n",
      "Warning message:\n",
      "“Cannot find dataset with cell names”\n",
      "Warning message:\n",
      "“'assay' not set, setting to 'RNA'”\n"
     ]
    },
    {
     "ename": "ERROR",
     "evalue": "Error: Unknown file type: h5seurat\n",
     "output_type": "error",
     "traceback": [
      "Error: Unknown file type: h5seurat\nTraceback:\n",
      "1. Convert.character(here(\"data/wang2024_SA/rna_count.h5Seurat\"), \n .     dest = \"h5ad\")",
      "2. Convert(source = hfile, dest = dest, assay = assay, overwrite = overwrite, \n .     verbose = verbose, ...)",
      "3. Convert.H5File(source = hfile, dest = dest, assay = assay, overwrite = overwrite, \n .     verbose = verbose, ...)",
      "4. stop(\"Unknown file type: \", stype, call. = FALSE)",
      "5. .handleSimpleError(function (cnd) \n . {\n .     watcher$capture_plot_and_output()\n .     cnd <- sanitize_call(cnd)\n .     watcher$push(cnd)\n .     switch(on_error, continue = invokeRestart(\"eval_continue\"), \n .         stop = invokeRestart(\"eval_stop\"), error = invokeRestart(\"eval_error\", \n .             cnd))\n . }, \"Unknown file type: h5seurat\", base::quote(NULL))"
     ]
    }
   ],
   "source": [
    "# SaveH5Seurat(obj_count, filename = here('data/wang2024_SA/rna_count.h5Seurat'))\n",
    "Convert(here('data/wang2024_SA/rna_count.h5Seurat'), dest = 'h5ad')"
   ]
  },
  {
   "cell_type": "code",
   "execution_count": null,
   "metadata": {
    "vscode": {
     "languageId": "r"
    }
   },
   "outputs": [],
   "source": [
    "# BiocManager::install(\"GenomicRanges\")\n",
    "# !/opt/R/4.3.3/bin/Rscript -e \"convert2anndata::cli_convert()\" -i snRNA_allcell_seurat.rds -o ../rna.h5ad"
   ]
  },
  {
   "cell_type": "code",
   "execution_count": 5,
   "metadata": {
    "vscode": {
     "languageId": "r"
    }
   },
   "outputs": [
    {
     "name": "stderr",
     "output_type": "stream",
     "text": [
      "\n",
      "Attaching package: ‘anndata’\n",
      "\n",
      "\n",
      "The following object is masked from ‘package:SeuratObject’:\n",
      "\n",
      "    Layers\n",
      "\n",
      "\n",
      "Loading required package: stats4\n",
      "\n",
      "Loading required package: BiocGenerics\n",
      "\n",
      "\n",
      "Attaching package: ‘BiocGenerics’\n",
      "\n",
      "\n",
      "The following object is masked from ‘package:SeuratObject’:\n",
      "\n",
      "    intersect\n",
      "\n",
      "\n",
      "The following objects are masked from ‘package:stats’:\n",
      "\n",
      "    IQR, mad, sd, var, xtabs\n",
      "\n",
      "\n",
      "The following objects are masked from ‘package:base’:\n",
      "\n",
      "    anyDuplicated, aperm, append, as.data.frame, basename, cbind, colnames, dirname, do.call, duplicated,\n",
      "    eval, evalq, Filter, Find, get, grep, grepl, intersect, is.unsorted, lapply, Map, mapply, match, mget,\n",
      "    order, paste, pmax, pmax.int, pmin, pmin.int, Position, rank, rbind, Reduce, rownames, sapply, setdiff,\n",
      "    sort, table, tapply, union, unique, unsplit, which.max, which.min\n",
      "\n",
      "\n",
      "Loading required package: S4Vectors\n",
      "\n",
      "\n",
      "Attaching package: ‘S4Vectors’\n",
      "\n",
      "\n",
      "The following object is masked from ‘package:utils’:\n",
      "\n",
      "    findMatches\n",
      "\n",
      "\n",
      "The following objects are masked from ‘package:base’:\n",
      "\n",
      "    expand.grid, I, unname\n",
      "\n",
      "\n",
      "Loading required package: IRanges\n",
      "\n",
      "\n",
      "Attaching package: ‘IRanges’\n",
      "\n",
      "\n",
      "The following object is masked from ‘package:sp’:\n",
      "\n",
      "    %over%\n",
      "\n",
      "\n",
      "Loading required package: GenomeInfoDb\n",
      "\n"
     ]
    }
   ],
   "source": [
    "library(anndata)\n",
    "library(convert2anndata)\n",
    "library(GenomicRanges)"
   ]
  },
  {
   "cell_type": "code",
   "execution_count": 6,
   "metadata": {
    "vscode": {
     "languageId": "r"
    }
   },
   "outputs": [
    {
     "name": "stdout",
     "output_type": "stream",
     "text": [
      "[2025-01-01 13:18:10] Input object class: Seurat \n",
      "[2025-01-01 13:18:10] Converting Seurat object...\n",
      "[2025-01-01 13:18:10] Proceeding with custom conversion...\n",
      "[2025-01-01 13:18:10] Found assays: RNA \n",
      "[2025-01-01 13:18:10] Processing assay: RNA \n",
      "[2025-01-01 13:18:11] Attempting to preserve dimensional reductions.\n",
      "[2025-01-01 13:18:11] Updated reduction ' pca ' to match combined cells.\n",
      "[2025-01-01 13:18:12] Updated reduction ' umap ' to match combined cells.\n",
      "[2025-01-01 13:18:13] Found 2 graphs. Moving to colPair.\n",
      "[2025-01-01 13:18:16] Custom conversion to SingleCellExperiment completed successfully.\n"
     ]
    }
   ],
   "source": [
    "sce <- convert_seurat_to_sce(obj)"
   ]
  },
  {
   "cell_type": "code",
   "execution_count": 7,
   "metadata": {
    "vscode": {
     "languageId": "r"
    }
   },
   "outputs": [
    {
     "name": "stdout",
     "output_type": "stream",
     "text": [
      "[2025-01-01 13:32:35] Summary of SingleCellExperiment object:\n",
      "\n",
      "class: SingleCellExperiment \n",
      "dim: 39253 90504 \n",
      "metadata(2): version commands\n",
      "assays(1): RNA\n",
      "rownames(39253): AL627309.6 AL627309.5 ... HSPE1P4 RBMS1P1\n",
      "rowData names(0):\n",
      "colnames(90504): O1N21R1_O1N21R1_TTCCTCATAGCTATGTCGCG O1N21R1_O1N21R1_TAATATTCAGTATCTACACA ...\n",
      "  P5TC1R2_P5TC1R2_CELL5898_N1 P5TC1R2_P5TC1R2_CELL4979_N1\n",
      "colData names(10): CB orig.ident ... cluster celltype\n",
      "reducedDimNames(2): pca umap\n",
      "mainExpName: NULL\n",
      "altExpNames(0):\n",
      "\n",
      "[2025-01-01 13:32:36] Checking for altExperiments...\n",
      "[2025-01-01 13:32:36] Processing assay 'counts' for anndata.X...\n",
      "[2025-01-01 13:32:36] WARNING: The specified assay 'counts' is not available. Using 'RNA' as active layer instead.\n",
      "[2025-01-01 13:32:41] Using 'RNA' assay as the main data matrix.\n",
      "[2025-01-01 13:32:41] Processing all assays...\n",
      "[2025-01-01 13:32:45] Assays processed.\n",
      "[2025-01-01 13:32:45] Processing dimensional reductions...\n",
      "[2025-01-01 13:32:45] Dimensional reductions processed.\n",
      "[2025-01-01 13:32:46] WARNING: Failed to extract obs/colData with internal=TRUE.\n",
      "[2025-01-01 13:32:46] Successfully extracted obs/colData without internal=TRUE.\n",
      "[2025-01-01 13:32:46] WARNING: The following columns are missing without  internal=TRUE and some meta information might be lost:  reducedDims, altExps, colPairs \n",
      "[2025-01-01 13:32:46] Successfully extracted var/rowData with internal=TRUE.\n",
      "[2025-01-01 13:32:56] Column Pairs : Created sparse matrix for  RNA_nn  paired data with default values.\n",
      "[2025-01-01 13:33:27] Column Pairs : Created sparse matrix for  RNA_snn  paired data with default values.\n",
      "[2025-01-01 13:33:28] Row Pairs : No pairwise data found.\n",
      "[2025-01-01 13:33:28] Extracted colPairs data:\n",
      " RNA_nn, RNA_snn \n",
      "[2025-01-01 13:33:28] No rowPairs data extracted.\n",
      "[2025-01-01 13:33:28] Gathering metadata and pairwise matrices...\n",
      "[2025-01-01 13:33:28] Metadata and pairwise data organized.\n"
     ]
    }
   ],
   "source": [
    "ad <- convert_to_anndata(sce, assayName = 'counts', useAltExp = TRUE)"
   ]
  },
  {
   "cell_type": "code",
   "execution_count": null,
   "metadata": {
    "vscode": {
     "languageId": "r"
    }
   },
   "outputs": [],
   "source": [
    "write_h5ad(ad, here('data/wang2024_SA/rna.h5ad'))"
   ]
  }
 ],
 "metadata": {
  "kernelspec": {
   "display_name": "R",
   "language": "R",
   "name": "ir"
  },
  "language_info": {
   "codemirror_mode": "r",
   "file_extension": ".r",
   "mimetype": "text/x-r-source",
   "name": "R",
   "pygments_lexer": "r",
   "version": "4.3.3"
  }
 },
 "nbformat": 4,
 "nbformat_minor": 2
}
