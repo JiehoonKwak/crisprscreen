{
 "cells": [
  {
   "cell_type": "code",
   "execution_count": null,
   "metadata": {
    "vscode": {
     "languageId": "r"
    }
   },
   "outputs": [
    {
     "name": "stderr",
     "output_type": "stream",
     "text": [
      "here() starts at /home/jiehoonk/project/crisprscreen\n",
      "\n"
     ]
    }
   ],
   "source": [
    "library(Seurat)\n",
    "library(here)"
   ]
  },
  {
   "cell_type": "markdown",
   "metadata": {},
   "source": [
    "- do not return full count"
   ]
  },
  {
   "cell_type": "code",
   "execution_count": null,
   "metadata": {
    "vscode": {
     "languageId": "r"
    }
   },
   "outputs": [],
   "source": [
    "# library(SeuratDisk)\n",
    "# obj <- readRDS(here('data/wang2024_SA/raw/snRNA_allcell_seurat.rds'))\n",
    "# SaveH5Seurat(obj, filename = 'data/wang2024_SA/rna.h5Seurat')\n",
    "# Convert('data/wang2024_SA/rna.h5Seurat', dest = 'h5ad')"
   ]
  },
  {
   "cell_type": "code",
   "execution_count": null,
   "metadata": {
    "vscode": {
     "languageId": "r"
    }
   },
   "outputs": [],
   "source": [
    "# BiocManager::install(\"GenomicRanges\")\n",
    "# !/opt/R/4.3.3/bin/Rscript -e \"convert2anndata::cli_convert()\" -i snRNA_allcell_seurat.rds -o ../rna.h5ad"
   ]
  },
  {
   "cell_type": "code",
   "execution_count": 12,
   "metadata": {
    "vscode": {
     "languageId": "r"
    }
   },
   "outputs": [
    {
     "name": "stderr",
     "output_type": "stream",
     "text": [
      "Loading required package: stats4\n",
      "\n",
      "Loading required package: BiocGenerics\n",
      "\n",
      "\n",
      "Attaching package: ‘BiocGenerics’\n",
      "\n",
      "\n",
      "The following object is masked from ‘package:SeuratObject’:\n",
      "\n",
      "    intersect\n",
      "\n",
      "\n",
      "The following objects are masked from ‘package:stats’:\n",
      "\n",
      "    IQR, mad, sd, var, xtabs\n",
      "\n",
      "\n",
      "The following objects are masked from ‘package:base’:\n",
      "\n",
      "    anyDuplicated, aperm, append, as.data.frame, basename, cbind, colnames, dirname, do.call, duplicated,\n",
      "    eval, evalq, Filter, Find, get, grep, grepl, intersect, is.unsorted, lapply, Map, mapply, match, mget,\n",
      "    order, paste, pmax, pmax.int, pmin, pmin.int, Position, rank, rbind, Reduce, rownames, sapply, setdiff,\n",
      "    sort, table, tapply, union, unique, unsplit, which.max, which.min\n",
      "\n",
      "\n",
      "Loading required package: S4Vectors\n",
      "\n"
     ]
    },
    {
     "name": "stderr",
     "output_type": "stream",
     "text": [
      "\n",
      "Attaching package: ‘S4Vectors’\n",
      "\n",
      "\n",
      "The following object is masked from ‘package:utils’:\n",
      "\n",
      "    findMatches\n",
      "\n",
      "\n",
      "The following objects are masked from ‘package:base’:\n",
      "\n",
      "    expand.grid, I, unname\n",
      "\n",
      "\n",
      "Loading required package: IRanges\n",
      "\n",
      "\n",
      "Attaching package: ‘IRanges’\n",
      "\n",
      "\n",
      "The following object is masked from ‘package:sp’:\n",
      "\n",
      "    %over%\n",
      "\n",
      "\n",
      "Loading required package: GenomeInfoDb\n",
      "\n"
     ]
    }
   ],
   "source": [
    "library(anndata)\n",
    "library(convert2anndata)\n",
    "library(GenomicRanges)"
   ]
  },
  {
   "cell_type": "code",
   "execution_count": 10,
   "metadata": {
    "vscode": {
     "languageId": "r"
    }
   },
   "outputs": [
    {
     "name": "stdout",
     "output_type": "stream",
     "text": [
      "[2024-12-30 21:32:12] Input object class: Seurat \n",
      "[2024-12-30 21:32:12] Converting Seurat object...\n",
      "[2024-12-30 21:32:12] Proceeding with custom conversion...\n",
      "[2024-12-30 21:32:12] Found assays: RNA \n",
      "[2024-12-30 21:32:12] Processing assay: RNA \n",
      "[2024-12-30 21:32:13] Attempting to preserve dimensional reductions.\n",
      "[2024-12-30 21:32:13] Updated reduction ' pca ' to match combined cells.\n",
      "[2024-12-30 21:32:14] Updated reduction ' umap ' to match combined cells.\n",
      "[2024-12-30 21:32:14] Found 2 graphs. Moving to colPair.\n",
      "[2024-12-30 21:32:17] Custom conversion to SingleCellExperiment completed successfully.\n"
     ]
    }
   ],
   "source": [
    "sce <- convert_seurat_to_sce(obj)"
   ]
  },
  {
   "cell_type": "code",
   "execution_count": null,
   "metadata": {
    "vscode": {
     "languageId": "r"
    }
   },
   "outputs": [
    {
     "name": "stdout",
     "output_type": "stream",
     "text": [
      "[2024-12-30 21:34:24] Summary of SingleCellExperiment object:\n",
      "\n",
      "class: SingleCellExperiment \n",
      "dim: 39253 90504 \n",
      "metadata(2): version commands\n",
      "assays(1): RNA\n",
      "rownames(39253): AL627309.6 AL627309.5 ... HSPE1P4 RBMS1P1\n",
      "rowData names(0):\n",
      "colnames(90504): O1N21R1_O1N21R1_TTCCTCATAGCTATGTCGCG O1N21R1_O1N21R1_TAATATTCAGTATCTACACA ...\n",
      "  P5TC1R2_P5TC1R2_CELL5898_N1 P5TC1R2_P5TC1R2_CELL4979_N1\n",
      "colData names(10): CB orig.ident ... cluster celltype\n",
      "reducedDimNames(2): pca umap\n",
      "mainExpName: NULL\n",
      "altExpNames(0):\n",
      "\n",
      "[2024-12-30 21:34:25] Checking for altExperiments...\n",
      "[2024-12-30 21:34:25] Processing assay 'counts' for anndata.X...\n",
      "[2024-12-30 21:34:25] WARNING: The specified assay 'counts' is not available. Using 'RNA' as active layer instead.\n",
      "[2024-12-30 21:34:28] Using 'RNA' assay as the main data matrix.\n",
      "[2024-12-30 21:34:28] Processing all assays...\n",
      "[2024-12-30 21:34:31] Assays processed.\n",
      "[2024-12-30 21:34:31] Processing dimensional reductions...\n",
      "[2024-12-30 21:34:31] Dimensional reductions processed.\n",
      "[2024-12-30 21:34:31] WARNING: Failed to extract obs/colData with internal=TRUE.\n",
      "[2024-12-30 21:34:31] Successfully extracted obs/colData without internal=TRUE.\n",
      "[2024-12-30 21:34:31] WARNING: The following columns are missing without  internal=TRUE and some meta information might be lost:  reducedDims, altExps, colPairs \n",
      "[2024-12-30 21:34:31] Successfully extracted var/rowData with internal=TRUE.\n",
      "[2024-12-30 21:34:37] Column Pairs : Created sparse matrix for  RNA_nn  paired data with default values.\n",
      "[2024-12-30 21:34:58] Column Pairs : Created sparse matrix for  RNA_snn  paired data with default values.\n",
      "[2024-12-30 21:34:58] Row Pairs : No pairwise data found.\n",
      "[2024-12-30 21:34:58] Extracted colPairs data:\n",
      " RNA_nn, RNA_snn \n",
      "[2024-12-30 21:34:58] No rowPairs data extracted.\n",
      "[2024-12-30 21:34:58] Gathering metadata and pairwise matrices...\n",
      "[2024-12-30 21:34:58] Metadata and pairwise data organized.\n"
     ]
    }
   ],
   "source": [
    "ad <- convert_to_anndata(sce, assayName = 'counts', useAltExp = TRUE)"
   ]
  },
  {
   "cell_type": "code",
   "execution_count": null,
   "metadata": {
    "vscode": {
     "languageId": "r"
    }
   },
   "outputs": [],
   "source": [
    "write_h5ad(ad, here('data/wang2024_SA/rna.h5ad'))"
   ]
  }
 ],
 "metadata": {
  "kernelspec": {
   "display_name": "R",
   "language": "R",
   "name": "ir"
  },
  "language_info": {
   "codemirror_mode": "r",
   "file_extension": ".r",
   "mimetype": "text/x-r-source",
   "name": "R",
   "pygments_lexer": "r",
   "version": "4.3.3"
  }
 },
 "nbformat": 4,
 "nbformat_minor": 2
}
